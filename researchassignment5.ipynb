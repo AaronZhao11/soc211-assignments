{
 "cells": [
  {
   "cell_type": "markdown",
   "metadata": {},
   "source": [
    "# Research Assignment 5 \n",
    "\n",
    "\n",
    "[Aaron Zhao]\n",
    "\n",
    "[Immigrant Confidence in U.S. Institutions] \n",
    "\n",
    "[4/12024]"
   ]
  },
  {
   "cell_type": "code",
   "execution_count": 1,
   "metadata": {
    "tags": []
   },
   "outputs": [
    {
     "data": {
      "text/html": [
       "<style>div.jp-Notebook .datagrid-container {min-height: 448px; }</style>"
      ],
      "text/plain": [
       "<IPython.core.display.HTML object>"
      ]
     },
     "metadata": {},
     "output_type": "display_data"
    },
    {
     "name": "stdout",
     "output_type": "stream",
     "text": [
      "\n"
     ]
    }
   ],
   "source": [
    "set maxvar 120000\n",
    "use \"/Users/aaronzhao/Desktop/=【、、000000/GSS_stata 3/gss7222_r2.dta\", clear\n",
    "eststo clear"
   ]
  },
  {
   "cell_type": "code",
   "execution_count": 2,
   "metadata": {
    "tags": []
   },
   "outputs": [
    {
     "name": "stdout",
     "output_type": "stream",
     "text": [
      "\n",
      "Variable      Storage   Display    Value\n",
      "    name         type    format    label      Variable label\n",
      "-------------------------------------------------------------------------------\n",
      "coneduc         byte    %29.0g     INSTCONF   confidence in education\n",
      "educ            byte    %29.0g     EDUC       highest year of school completed\n",
      "born            byte    %29.0g     YESNO      was r born in this country\n",
      "sex             byte    %29.0g     GENDER     respondents sex\n"
     ]
    }
   ],
   "source": [
    "describe coneduc educ born sex"
   ]
  },
  {
   "cell_type": "code",
   "execution_count": 3,
   "metadata": {
    "tags": []
   },
   "outputs": [
    {
     "name": "stdout",
     "output_type": "stream",
     "text": [
      "\n",
      "-------------------------------------------------------------------------------\n",
      "coneduc                                                 confidence in education\n",
      "-------------------------------------------------------------------------------\n",
      "\n",
      "                  Type: Numeric (byte)\n",
      "                 Label: INSTCONF\n",
      "\n",
      "                 Range: [1,3]                         Units: 1\n",
      "         Unique values: 3                         Missing .: 0/72,390\n",
      "       Unique mv codes: 4                        Missing .*: 23,990/72,390\n",
      "\n",
      "            Tabulation: Freq.   Numeric  Label\n",
      "                       13,856         1  a great deal\n",
      "                       27,230         2  only some\n",
      "                        7,314         3  hardly any\n",
      "                          555        .d  don't know\n",
      "                       23,292        .i  iap\n",
      "                          122        .n  no answer\n",
      "                           21        .s  skipped on web\n",
      "\n",
      "-------------------------------------------------------------------------------\n",
      "educ                                           highest year of school completed\n",
      "-------------------------------------------------------------------------------\n",
      "\n",
      "                  Type: Numeric (byte)\n",
      "                 Label: EDUC, but 20 nonmissing values are not labeled\n",
      "\n",
      "                 Range: [0,20]                        Units: 1\n",
      "         Unique values: 21                        Missing .: 0/72,390\n",
      "       Unique mv codes: 2                        Missing .*: 263/72,390\n",
      "\n",
      "              Examples: 11    \n",
      "                        12    \n",
      "                        14    \n",
      "                        16    \n",
      "\n",
      "-------------------------------------------------------------------------------\n",
      "born                                                 was r born in this country\n",
      "-------------------------------------------------------------------------------\n",
      "\n",
      "                  Type: Numeric (byte)\n",
      "                 Label: YESNO\n",
      "\n",
      "                 Range: [1,2]                         Units: 1\n",
      "         Unique values: 2                         Missing .: 0/72,390\n",
      "       Unique mv codes: 4                        Missing .*: 9,357/72,390\n",
      "\n",
      "            Tabulation: Freq.   Numeric  Label\n",
      "                       57,034         1  yes\n",
      "                        5,999         2  no\n",
      "                           31        .d  don't know\n",
      "                        9,160        .i  iap\n",
      "                          149        .n  no answer\n",
      "                           17        .s  skipped on web\n",
      "\n",
      "-------------------------------------------------------------------------------\n",
      "sex                                                             respondents sex\n",
      "-------------------------------------------------------------------------------\n",
      "\n",
      "                  Type: Numeric (byte)\n",
      "                 Label: GENDER\n",
      "\n",
      "                 Range: [1,2]                         Units: 1\n",
      "         Unique values: 2                         Missing .: 0/72,390\n",
      "       Unique mv codes: 4                        Missing .*: 112/72,390\n",
      "\n",
      "            Tabulation: Freq.   Numeric  Label\n",
      "                       31,977         1  male\n",
      "                       40,301         2  female\n",
      "                            8        .d  don't know\n",
      "                           19        .i  iap\n",
      "                           80        .n  no answer\n",
      "                            5        .s  skipped on web\n"
     ]
    }
   ],
   "source": [
    "codebook coneduc educ born sex"
   ]
  },
  {
   "cell_type": "code",
   "execution_count": 4,
   "metadata": {
    "tags": []
   },
   "outputs": [],
   "source": [
    "keep coneduc educ born sex"
   ]
  },
  {
   "cell_type": "code",
   "execution_count": 5,
   "metadata": {
    "tags": []
   },
   "outputs": [
    {
     "name": "stdout",
     "output_type": "stream",
     "text": [
      "\n",
      "      confidence in education |      Freq.     Percent        Cum.\n",
      "------------------------------+-----------------------------------\n",
      "                 a great deal |     13,856       28.63       28.63\n",
      "                    only some |     27,230       56.26       84.89\n",
      "                   hardly any |      7,314       15.11      100.00\n",
      "------------------------------+-----------------------------------\n",
      "                        Total |     48,400      100.00\n",
      "\n",
      " confidence |\n",
      "         in |\n",
      "  education |      Freq.     Percent        Cum.\n",
      "------------+-----------------------------------\n",
      "          1 |     13,856       28.63       28.63\n",
      "          2 |     27,230       56.26       84.89\n",
      "          3 |      7,314       15.11      100.00\n",
      "------------+-----------------------------------\n",
      "      Total |     48,400      100.00\n"
     ]
    }
   ],
   "source": [
    "tab coneduc\n",
    "tab coneduc, nol"
   ]
  },
  {
   "cell_type": "code",
   "execution_count": 6,
   "metadata": {
    "tags": []
   },
   "outputs": [
    {
     "name": "stdout",
     "output_type": "stream",
     "text": [
      "(23,990 missing values generated)\n",
      "(0 real changes made)\n",
      "(7,314 real changes made)\n",
      "(27,230 observations deleted)\n"
     ]
    }
   ],
   "source": [
    "gen highconeduc=coneduc\n",
    "replace highconeduc=1 if coneduc==1\n",
    "replace highconeduc=0 if coneduc==3\n",
    "drop if highconeduc==2"
   ]
  },
  {
   "cell_type": "code",
   "execution_count": 7,
   "metadata": {
    "tags": []
   },
   "outputs": [
    {
     "name": "stdout",
     "output_type": "stream",
     "text": [
      "\n",
      "highconeduc |      Freq.     Percent        Cum.\n",
      "------------+-----------------------------------\n",
      "          0 |      7,314       34.55       34.55\n",
      "          1 |     13,856       65.45      100.00\n",
      "------------+-----------------------------------\n",
      "      Total |     21,170      100.00\n"
     ]
    }
   ],
   "source": [
    "tab highconeduc"
   ]
  },
  {
   "cell_type": "code",
   "execution_count": 8,
   "metadata": {
    "tags": []
   },
   "outputs": [],
   "source": [
    "label variable highconeduc \"High Confidence in Education\"\n",
    "label define highconeduc 0 \"Low Confidence\" 1 \"High Confidence\"\n",
    "label values highconeduc highconeduc"
   ]
  },
  {
   "cell_type": "code",
   "execution_count": 9,
   "metadata": {
    "tags": []
   },
   "outputs": [
    {
     "name": "stdout",
     "output_type": "stream",
     "text": [
      "(6,368 missing values generated)\n",
      "(0 real changes made)\n",
      "(0 real changes made)\n",
      "(22 observations deleted)\n",
      "(6,244 observations deleted)\n",
      "(95 observations deleted)\n",
      "(7 observations deleted)\n",
      "\n",
      "                      | Country of Origin of\n",
      "   was r born in this |      Respondents\n",
      "              country |      U.S.  Immigrant |     Total\n",
      "----------------------+----------------------+----------\n",
      "                  yes |    34,866          0 |    34,866 \n",
      "                   no |         0      3,926 |     3,926 \n",
      "----------------------+----------------------+----------\n",
      "                Total |    34,866      3,926 |    38,792 \n",
      "\n",
      " Country of |\n",
      "  Origin of |\n",
      "Respondents |      Freq.     Percent        Cum.\n",
      "------------+-----------------------------------\n",
      "       U.S. |     34,866       89.88       89.88\n",
      "  Immigrant |      3,926       10.12      100.00\n",
      "------------+-----------------------------------\n",
      "      Total |     38,792      100.00\n"
     ]
    }
   ],
   "source": [
    "gen immigrant=born\n",
    "label var immigrant \"Country of Origin of Respondents\"\n",
    "label define immigrant 1\"U.S.\" 2 \"Immigrant\"\n",
    "label values immigrant immigrant\n",
    "replace immigrant=1 if born==1\n",
    "replace immigrant=2 if born==2\n",
    "drop if immigrant==.d\n",
    "drop if immigrant==.i\n",
    "drop if immigrant==.n\n",
    "drop if immigrant==.s\n",
    "tab born immigrant, m\n",
    "tab immigrant"
   ]
  },
  {
   "cell_type": "code",
   "execution_count": 10,
   "metadata": {
    "tags": []
   },
   "outputs": [
    {
     "name": "stdout",
     "output_type": "stream",
     "text": [
      "(38 missing values generated)\n",
      "(0 real changes made)\n",
      "(0 real changes made)\n",
      "(5 observations deleted)\n",
      "(9 observations deleted)\n",
      "(21 observations deleted)\n",
      "(3 observations deleted)\n",
      "\n",
      "                      |  Sex of Respondents\n",
      "      respondents sex |      Male     Female |     Total\n",
      "----------------------+----------------------+----------\n",
      "                 male |    17,068          0 |    17,068 \n",
      "               female |         0     21,686 |    21,686 \n",
      "----------------------+----------------------+----------\n",
      "                Total |    17,068     21,686 |    38,754 \n"
     ]
    }
   ],
   "source": [
    "gen sex1=sex\n",
    "label var sex1 \"Sex of Respondents\"\n",
    "label define sex1 1\"Male\" 2 \"Female\"\n",
    "label values sex1 sex1\n",
    "replace sex1=1 if sex==1\n",
    "replace sex1=2 if sex==2 \n",
    "drop if sex1==.d\n",
    "drop if sex1==.i\n",
    "drop if sex1==.n\n",
    "drop if sex1==.s\n",
    "tab sex sex1, m"
   ]
  },
  {
   "cell_type": "code",
   "execution_count": 11,
   "metadata": {
    "tags": []
   },
   "outputs": [
    {
     "name": "stdout",
     "output_type": "stream",
     "text": [
      "(118 missing values generated)\n",
      "(0 real changes made)\n",
      "(86 real changes made)\n",
      "(139 real changes made)\n",
      "(172 real changes made)\n",
      "(202 real changes made)\n",
      "(476 real changes made)\n",
      "(454 real changes made)\n",
      "(1,363 real changes made)\n",
      "(1,129 real changes made)\n",
      "(1,561 real changes made)\n",
      "(2,176 real changes made)\n",
      "(11,073 real changes made)\n",
      "(3,306 real changes made)\n",
      "(4,552 real changes made)\n",
      "(1,854 real changes made)\n",
      "(5,432 real changes made)\n",
      "(1,270 real changes made)\n",
      "(1,674 real changes made)\n",
      "(581 real changes made)\n",
      "(1,020 real changes made)\n",
      "(57 observations deleted)\n",
      "(61 observations deleted)\n",
      "(21,062 observations deleted)\n",
      "(92 real changes made)\n",
      "\n",
      "                      |  Level of Education\n",
      "      highest year of |      Attainment\n",
      "     school completed |       Low       High |     Total\n",
      "----------------------+----------------------+----------\n",
      "  no formal schooling |        92          0 |        92 \n",
      "                    1 |        24          0 |        24 \n",
      "                    2 |        86          0 |        86 \n",
      "                    3 |       139          0 |       139 \n",
      "                    4 |       172          0 |       172 \n",
      "                    5 |       202          0 |       202 \n",
      "                    6 |       476          0 |       476 \n",
      "                   14 |         0      4,552 |     4,552 \n",
      "                   15 |         0      1,854 |     1,854 \n",
      "                   16 |         0      5,432 |     5,432 \n",
      "                   17 |         0      1,270 |     1,270 \n",
      "                   18 |         0      1,674 |     1,674 \n",
      "                   19 |         0        581 |       581 \n",
      "                   20 |         0      1,020 |     1,020 \n",
      "----------------------+----------------------+----------\n",
      "                Total |     1,191     16,383 |    17,574 \n",
      "\n",
      "   Level of |\n",
      "  Education |\n",
      " Attainment |      Freq.     Percent        Cum.\n",
      "------------+-----------------------------------\n",
      "        Low |      1,191        6.78        6.78\n",
      "       High |     16,383       93.22      100.00\n",
      "------------+-----------------------------------\n",
      "      Total |     17,574      100.00\n"
     ]
    }
   ],
   "source": [
    "gen education=educ  //higher values=more education\n",
    "label var education \"Level of Education Attainment\"\n",
    "label define education 1\"Low\" 2 \"Some\" 3 \"High\" \n",
    "label values education education\n",
    "replace education=1 if educ==1\n",
    "replace education=1 if educ==2\n",
    "replace education=1 if educ==3\n",
    "replace education=1 if educ==4\n",
    "replace education=1 if educ==5\n",
    "replace education=1 if educ==6\n",
    "replace education=2 if educ==7\n",
    "replace education=2 if educ==8\n",
    "replace education=2 if educ==9\n",
    "replace education=2 if educ==10\n",
    "replace education=2 if educ==11\n",
    "replace education=2 if educ==12\n",
    "replace education=2 if educ==13\n",
    "replace education=3 if educ==14\n",
    "replace education=3 if educ==15\n",
    "replace education=3 if educ==16\n",
    "replace education=3 if educ==17\n",
    "replace education=3 if educ==18\n",
    "replace education=3 if educ==19\n",
    "replace education=3 if educ==20\n",
    "drop if educ==.n\n",
    "drop if educ==.d\n",
    "drop if education==2\n",
    "replace education=1 if education==0\n",
    "tab educ education, m\n",
    "tab education"
   ]
  },
  {
   "cell_type": "markdown",
   "metadata": {},
   "source": [
    "### 1. Develop hypotheses that approach a nominal variable in your dataset as a dependent variable (DV). [1 pt]\n",
    "\n",
    "* If your nominal variable has more than two categorical variables, such as political party affiliation categories of -- Democrat, Democratic Socialist, Green, Independent, or Republican -- develop hypotheses that treat being or not being in at least one of the categories as a dichotomous binomial dependent variable (DV).\n",
    "\n",
    "* Even if you are not interested in any categorical outcomes for your research project, still develop an hypothesis for at least one nominal variable in your data as a dependent variable. Thinking about potential influences on that variable could help you see if there are intervening relationships or omitted variable biases in your primary outcome of interest.\n",
    "\n",
    "Do the following when you write your hypothesis:\n",
    "\n",
    "    A. Write a separate hypothesis for each dependent variable (DV) you want to analyze.\n",
    "    \n",
    "    I hypothesize that being female, being born in a different country (status as an immigrant), and having higher educational attainment predicts identification with higher confidence level in education in the United States. \n",
    "        \n",
    "    B. For each dependent variable (DV) state the predicted direction of association between your dependent variable DV and independent variables (IVs) in your model. You can predict no relationship if you do not expect a relationship.\n",
    "    \n",
    "    The relationship between immigration status (country of origin), being female, and having hgher educational attainment have higher odds of having more confidence in the educational institution in the United States.\n",
    "    \n",
    "    C. Write a couple sentences about the theoretical reasons (prior knowledge / research) for each of your predictions\n",
    "    \n",
    "    From both personal anecdote as well as prior research, people from a different country of origin typically have a more positive view of the institutions in the United States (hence the reason why they have immigrated in the first place). As women on average have higher educational attainment than men and having higher educational attainment should serve as a justification for more confidence in the system, my hypothesis is thus formulated. "
   ]
  },
  {
   "cell_type": "markdown",
   "metadata": {},
   "source": [
    "### 2. Test your hypotheses [3 pts]\n",
    "\n",
    "    A. Create a frequency table for your dependent variable (DV).\n",
    "\n",
    "    B. Estimate an OLS model regressing your dichotomous dependent variable (DV) on your hypothesized independent variables (IVs) and store the results.\n",
    "    \n",
    "    C. Estimate an MLE logistic model regressing your dichotomous dependent variable (DV) on your hypothesized independent variables (IVs) and store the results.\n",
    "    \n",
    "    D. Use esttab to output the coefficients for your OLS and MLE logistic models with html formatting within your Jupyter Notebook.\n",
    "    \n",
    "    E. Use esttab to reoutput your coefficients as odd ratios."
   ]
  },
  {
   "cell_type": "code",
   "execution_count": 12,
   "metadata": {
    "tags": []
   },
   "outputs": [
    {
     "name": "stdout",
     "output_type": "stream",
     "text": [
      "\n",
      "High Confidence |\n",
      "   in Education |      Freq.     Percent        Cum.\n",
      "----------------+-----------------------------------\n",
      " Low Confidence |      3,093       40.42       40.42\n",
      "High Confidence |      4,560       59.58      100.00\n",
      "----------------+-----------------------------------\n",
      "          Total |      7,653      100.00\n"
     ]
    }
   ],
   "source": [
    "tab highconeduc"
   ]
  },
  {
   "cell_type": "code",
   "execution_count": 13,
   "metadata": {
    "tags": []
   },
   "outputs": [],
   "source": [
    "est clear"
   ]
  },
  {
   "cell_type": "code",
   "execution_count": 15,
   "metadata": {
    "tags": []
   },
   "outputs": [
    {
     "name": "stdout",
     "output_type": "stream",
     "text": [
      "\n",
      "Linear regression                               Number of obs     =      7,653\n",
      "                                                F(3, 7649)        =      63.12\n",
      "                                                Prob > F          =     0.0000\n",
      "                                                R-squared         =     0.0185\n",
      "                                                Root MSE          =     .48629\n",
      "\n",
      "------------------------------------------------------------------------------\n",
      "             |               Robust\n",
      " highconeduc | Coefficient  std. err.      t    P>|t|     [95% conf. interval]\n",
      "-------------+----------------------------------------------------------------\n",
      "   immigrant |\n",
      "  Immigrant  |   .0918416   .0158406     5.80   0.000     .0607898    .1228935\n",
      "             |\n",
      "        sex1 |\n",
      "     Female  |   .0363792   .0111417     3.27   0.001     .0145383      .05822\n",
      "             |\n",
      "   education |\n",
      "       High  |  -.1809542   .0175087   -10.34   0.000    -.2152761   -.1466323\n",
      "       _cons |   .7297111   .0181561    40.19   0.000     .6941201    .7653021\n",
      "------------------------------------------------------------------------------\n",
      "(est1 stored)\n"
     ]
    }
   ],
   "source": [
    "eststo: reg highconeduc i.immigrant i.sex1 i.education, ro"
   ]
  },
  {
   "cell_type": "code",
   "execution_count": 16,
   "metadata": {
    "tags": []
   },
   "outputs": [
    {
     "name": "stdout",
     "output_type": "stream",
     "text": [
      "\n",
      "Iteration 0:  Log pseudolikelihood = -5163.1771  \n",
      "Iteration 1:  Log pseudolikelihood = -5087.6918  \n",
      "Iteration 2:  Log pseudolikelihood = -5087.4372  \n",
      "Iteration 3:  Log pseudolikelihood = -5087.4371  \n",
      "\n",
      "Logistic regression                                     Number of obs =  7,653\n",
      "                                                        Wald chi2(3)  = 135.97\n",
      "                                                        Prob > chi2   = 0.0000\n",
      "Log pseudolikelihood = -5087.4371                       Pseudo R2     = 0.0147\n",
      "\n",
      "------------------------------------------------------------------------------\n",
      "             |               Robust\n",
      " highconeduc | Coefficient  std. err.      z    P>|z|     [95% conf. interval]\n",
      "-------------+----------------------------------------------------------------\n",
      "   immigrant |\n",
      "  Immigrant  |   .4117784   .0741527     5.55   0.000     .2664418    .5571149\n",
      "             |\n",
      "        sex1 |\n",
      "     Female  |   .1540297   .0470858     3.27   0.001     .0617433    .2463161\n",
      "             |\n",
      "   education |\n",
      "       High  |  -.8659536   .0976592    -8.87   0.000    -1.057362   -.6745452\n",
      "       _cons |   1.056196   .0991699    10.65   0.000     .8618263    1.250565\n",
      "------------------------------------------------------------------------------\n",
      "(est2 stored)\n",
      "\n",
      "Conditional marginal effects                             Number of obs = 7,653\n",
      "Model VCE: Robust\n",
      "\n",
      "Expression: Pr(highconeduc), predict()\n",
      "dy/dx wrt:  2.immigrant 2.sex1 3.education\n",
      "At: 1.immigrant = .8669803 (mean)\n",
      "    2.immigrant = .1330197 (mean)\n",
      "    1.sex1      = .4743238 (mean)\n",
      "    2.sex1      = .5256762 (mean)\n",
      "    1.education = .0870247 (mean)\n",
      "    3.education = .9129753 (mean)\n",
      "\n",
      "------------------------------------------------------------------------------\n",
      "             |            Delta-method\n",
      "             |      dy/dx   std. err.      z    P>|z|     [95% conf. interval]\n",
      "-------------+----------------------------------------------------------------\n",
      "   immigrant |\n",
      "  Immigrant  |   .0952094   .0163476     5.82   0.000     .0631688    .1272501\n",
      "             |\n",
      "        sex1 |\n",
      "     Female  |   .0370101   .0113116     3.27   0.001     .0148398    .0591804\n",
      "             |\n",
      "   education |\n",
      "       High  |  -.1863054   .0179252   -10.39   0.000    -.2214382   -.1511726\n",
      "------------------------------------------------------------------------------\n",
      "Note: dy/dx for factor levels is the discrete change from the base level.\n",
      "(est3 stored)\n"
     ]
    }
   ],
   "source": [
    "eststo: logit highconeduc i.immigrant i.sex1 i.education, ro\n",
    "eststo: margins, dydx(*) post atmeans"
   ]
  },
  {
   "cell_type": "code",
   "execution_count": 18,
   "metadata": {
    "tags": []
   },
   "outputs": [
    {
     "name": "stdout",
     "output_type": "stream",
     "text": [
      "\n",
      "Unexpontiated Coefficients\n",
      "---------------------------------------------------------------\n",
      "                      (1)              (2)              (3)    \n",
      "                      OLS     MLE / logi~c     MLE margin~s    \n",
      "---------------------------------------------------------------\n",
      "main                                                           \n",
      "1.immigrant          0.00             0.00             0.00    \n",
      "                      (.)              (.)              (.)    \n",
      "1.sex1               0.00             0.00             0.00    \n",
      "                      (.)              (.)              (.)    \n",
      "1.education          0.00             0.00             0.00    \n",
      "                      (.)              (.)              (.)    \n",
      "_cons                0.73 ***         1.06 ***                 \n",
      "                   (0.02)           (0.10)                     \n",
      "---------------------------------------------------------------\n",
      "N                    7653             7653             7653    \n",
      "---------------------------------------------------------------\n",
      "^ p<.1, * p<.05, ** p<.01, *** p<.001\n"
     ]
    }
   ],
   "source": [
    "esttab ///\n",
    ", cells(b(star fmt(2)) se(fmt(2) par)) stardetach  ///\n",
    "\tlegend starlevels(^ .1 * .05 ** .01 *** .001) ///\n",
    "mlabels(\"OLS\" \"MLE / logistic\" \"MLE marginal effects\") title(\"Unexpontiated Coefficients\") ///\n",
    "collabels(none) keep(1.immigrant 1.sex1 1.education _cons)"
   ]
  },
  {
   "cell_type": "code",
   "execution_count": 19,
   "metadata": {
    "tags": []
   },
   "outputs": [
    {
     "name": "stdout",
     "output_type": "stream",
     "text": [
      "\n",
      "Odds Ratio\n",
      "---------------------------------------------------------------\n",
      "                      (1)              (2)              (3)    \n",
      "                      OLS     MLE / logi~c     MLE margin~s    \n",
      "---------------------------------------------------------------\n",
      "main                                                           \n",
      "1.immigrant          1.00             1.00             1.00    \n",
      "                      (.)              (.)              (.)    \n",
      "1.sex1               1.00             1.00             1.00    \n",
      "                      (.)              (.)              (.)    \n",
      "1.education          1.00             1.00             1.00    \n",
      "                      (.)              (.)              (.)    \n",
      "---------------------------------------------------------------\n",
      "N                    7653             7653             7653    \n",
      "---------------------------------------------------------------\n",
      "Exponentiated coefficients\n",
      "^ p<.1, * p<.05, ** p<.01, *** p<.001\n"
     ]
    }
   ],
   "source": [
    "esttab ///\n",
    ", cells(b(star fmt(2)) se(fmt(2) par)) stardetach  ///\n",
    "\tlegend starlevels(^ .1 * .05 ** .01 *** .001) ///\n",
    "mlabels(\"OLS\" \"MLE / logistic\" \"MLE marginal effects\") title(\"Odds Ratio\") ///\n",
    "collabels(none) keep(1.immigrant 1.sex1 1.education _cons) eform"
   ]
  },
  {
   "cell_type": "markdown",
   "metadata": {},
   "source": [
    "### 3. Interpret your results [1 pt]\n",
    "\n",
    "Write a couple sentences answering each of the following questions:\n",
    "\n",
    "    A. How would you interpret the relationship between your dependent variable(s) (DVs) and independent variables (IVs) based on the odds ratios for you MLE logistic model?\n",
    "\n",
    "    B. Do the overall estimates support or contradict your hypotheses? Why?\n",
    "    \n",
    "    C. Is there anything suprising in your model estimates? Why?\n",
    "    \n",
    "    D. How do the OLS coefficients and their standard errors compare to the MLE estimates? Are the coefficients and standard errors larger or smaller?"
   ]
  },
  {
   "cell_type": "markdown",
   "metadata": {},
   "source": [
    "The odds of having a higher confidence in education is 0% more for people who are born in another country to native born American citizens. The odds of having a higher confidence in education is also 0% more for women compared to men. The same result holds true when comparing the differences in educational attainment.\n",
    "\n",
    "For every one unit increase in all measured variables, there is a 0% increase in the confidence of respondents to education. A result like this indicates that the predictor/independent variable (immigration status, sex, as well as educational attainment) has either no effect or a very small/negligible effect on the outcome/dependent variable (confidence in education).\n",
    "\n",
    "The results do not provide supporting evidence for my hypothesis. I expected to find that women who are highly educated and born in another country will have a higher confidence level in education. Surprisingly, there appears to be no or minimal relationship between all the variables and their confidence level in education in the United States. \n",
    "\n",
    "I am suprised to see that all of my independent variables (sex, immigration status, educational attainment) seemingly has little to no effect on people's confidence in education. From both personal experiences and common conceptions people may hold, there should be a relationship (may it be positive or negative) between the independent variables and the dependent variable, thus my result my imply that the relationship may either be minute or not as straightforawd as it may seem.\n",
    "\n",
    "The magnitude, direction, and standard errors of my findings are similar between the OLS and MLE models. which may have virtually no difference in the results."
   ]
  }
 ],
 "metadata": {
  "kernelspec": {
   "display_name": "Stata (nbstata)",
   "language": "stata",
   "name": "nbstata"
  },
  "language_info": {
   "file_extension": ".do",
   "mimetype": "text/x-stata",
   "name": "stata",
   "version": "17"
  }
 },
 "nbformat": 4,
 "nbformat_minor": 4
}
