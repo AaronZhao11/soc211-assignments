{
 "cells": [
  {
   "cell_type": "markdown",
   "metadata": {},
   "source": [
    "## Stats 211 Problem set 2\n",
    "\n",
    "[Aaron Zhao]\n",
    "\n",
    "[Problem Set 2 With Doctor Eaton's Data] \n",
    "\n",
    "[2/29/24]"
   ]
  },
  {
   "cell_type": "markdown",
   "metadata": {},
   "source": [
    "### 1. Explain any new or revised hypotheses for interval ratio data from your own project or from Charlie's grant and loan repayment data\n",
    "\n",
    "[Your answer here should explain:\n",
    "1. What are your dependent variables? Why do they interest you?\n",
    "\n",
    "Loan repayment and State grant aid per student are my dependent variables. According to Doctor Eaton's journal article \"The Organizational Ecology of College Affordability: Research Activity, State Grant Aid Policies, and Student Debt at U.S. Public Universities,\" in less reserach intensive schools students generally have an easier time paying off their debt. In addition, state grant aid provisions are dependent upon the reserach intensiveness of each schools. This reminds me a bit back to what we are doing for the previous assignments with predatory schools. \n",
    "\n",
    "2. What are your independent variables? What direction to you hypothesize will be the relationship between your dependent variable and your dependent variables?\n",
    "\n",
    "Based off of my answer for answer one, my independent variable in relation to my dependent variable is the level of research in universities and the net prices for low-income students. I hypothesize that the more reserach intensive a school is the higher the amounts of state grand aids there are, resulting in a negative relationship between college net price for low income students and their payment rates for student loans. \n",
    "\n",
    "3. Why do you think your dependent variables are associated with your independent variables?\n",
    "\n",
    "Based on Doctor Eaton's journal article, \"The Organizational Ecology of College Affordability: Research Activity, State Grant Aid Policies, and Student Debt at U.S. Public Universities,\" Doctor Eaton highlighted the associations between the dependent and independent variables. \n",
    "\n",
    "4. What are your control variables? Do you think they will show any spurious, intervening, or interactive relationships? Why?]\n",
    "\n",
    "The control variable will be the school acceptance rate. It is an intervening control variable becaue there are no interactions between the variables, according to the article by Doctor Charlie Eaton \"The Organiztional Ecology of College Affordability: Reserach Activity, State Grant Aid Policies, and Student Debt at U.S. Public Universities\".\n"
   ]
  },
  {
   "cell_type": "markdown",
   "metadata": {},
   "source": [
    "### 2. Setting up your session\n",
    "\n",
    "In the code cell below, do the following:\n",
    "\n",
    "1. set current directory \n",
    "2. set more off \n",
    "3. create log file \n",
    "4. download the data from its source if it's available online\n",
    "5. read the data in [preferably only variables you are going to use]"
   ]
  },
  {
   "cell_type": "markdown",
   "metadata": {},
   "source": [
    "cd \"/Users/aaronzhao/Desktop/Desktop/Grad_Stats_II/soc211assignments\""
   ]
  },
  {
   "cell_type": "code",
   "execution_count": 1,
   "metadata": {
    "tags": []
   },
   "outputs": [
    {
     "data": {
      "text/html": [
       "<style>div.jp-Notebook .datagrid-container {min-height: 448px; }</style>"
      ],
      "text/plain": [
       "<IPython.core.display.HTML object>"
      ]
     },
     "metadata": {},
     "output_type": "display_data"
    },
    {
     "name": "stdout",
     "output_type": "stream",
     "text": [
      "(-set more- irrelevant in this version of Stata)\n"
     ]
    }
   ],
   "source": [
    "set more off"
   ]
  },
  {
   "cell_type": "code",
   "execution_count": 2,
   "metadata": {
    "tags": []
   },
   "outputs": [
    {
     "name": "stdout",
     "output_type": "stream",
     "text": [
      "-------------------------------------------------------------------------------\n",
      "      name:  <unnamed>\n",
      "       log:  /Users/aaronzhao/Documents/GitHub/Graduate-Statistics-and-Data-Sci\n",
      "> ence-for-Sociology/week5/Log for Problem Set 2.log\n",
      "  log type:  text\n",
      " opened on:  19 Feb 2024, 19:39:37\n"
     ]
    }
   ],
   "source": [
    "log using \"Log for Problem Set 2.log\", replace"
   ]
  },
  {
   "cell_type": "code",
   "execution_count": 3,
   "metadata": {
    "tags": []
   },
   "outputs": [
    {
     "name": "stdout",
     "output_type": "stream",
     "text": [
      "(8 vars, 581 obs)\n"
     ]
    }
   ],
   "source": [
    "insheet using /Users/aaronzhao/Documents/GitHub/Graduate-Statistics-and-Data-Science-for-Sociology/week5/grants2015_college_affordability20200218.csv, clear"
   ]
  },
  {
   "cell_type": "code",
   "execution_count": 4,
   "metadata": {
    "tags": []
   },
   "outputs": [],
   "source": [
    "quietly {\n",
    "rename hgroup hgroupstring\n",
    "encode hgroupstring, gen(hgrouptemp)\n",
    "recode hgrouptemp (1=1 \"Highest\") (2=3 \"High\") (3=2 \"Very high\") (4=4 \"Some/None\"), gen(hgroup)\n",
    "qui label var igrnt_low \"institutional grant $ per fte\"\n",
    "qui label var sgrnt_low \"state grant $ per fte\"\n",
    "qui label var hgroup \"research level\"\n",
    "}"
   ]
  },
  {
   "cell_type": "code",
   "execution_count": 5,
   "metadata": {
    "tags": []
   },
   "outputs": [
    {
     "name": "stdout",
     "output_type": "stream",
     "text": [
      "year          stabbr        hgroupstring  igrnt_low_~c  hgrouptemp\n",
      "instnm        control       highdeg       sgrnt_low_~c  hgroup\n"
     ]
    }
   ],
   "source": [
    "ds"
   ]
  },
  {
   "cell_type": "code",
   "execution_count": 6,
   "metadata": {
    "tags": []
   },
   "outputs": [
    {
     "name": "stdout",
     "output_type": "stream",
     "text": [
      "\n",
      "-------------------------------------------------------------------------------\n",
      "igrnt_low_inc                                     institutional grant $ per fte\n",
      "-------------------------------------------------------------------------------\n",
      "\n",
      "                  Type: Numeric (float)\n",
      "\n",
      "                 Range: [0,60578.5]                   Units: 1.000e-06\n",
      "         Unique values: 579                       Missing .: 0/581\n",
      "\n",
      "                  Mean: 6965.15\n",
      "             Std. dev.: 8034.53\n",
      "\n",
      "           Percentiles:     10%       25%       50%       75%       90%\n",
      "                        765.767   2079.92   4656.91   8337.64   15516.2\n"
     ]
    }
   ],
   "source": [
    "codebook igrnt_low"
   ]
  },
  {
   "cell_type": "code",
   "execution_count": 7,
   "metadata": {
    "tags": []
   },
   "outputs": [
    {
     "name": "stdout",
     "output_type": "stream",
     "text": [
      "\n",
      "-------------------------------------------------------------------------------\n",
      "sgrnt_low_inc                                             state grant $ per fte\n",
      "-------------------------------------------------------------------------------\n",
      "\n",
      "                  Type: Numeric (float)\n",
      "\n",
      "                 Range: [0,40112.09]                  Units: 1.000e-06\n",
      "         Unique values: 578                       Missing .: 0/581\n",
      "\n",
      "                  Mean: 3590.03\n",
      "             Std. dev.: 3788.36\n",
      "\n",
      "           Percentiles:     10%       25%       50%       75%       90%\n",
      "                        374.798   1255.38   2955.35   4690.81   6946.94\n"
     ]
    }
   ],
   "source": [
    "codebook sgrnt_low_~c"
   ]
  },
  {
   "cell_type": "code",
   "execution_count": 8,
   "metadata": {
    "tags": []
   },
   "outputs": [
    {
     "name": "stdout",
     "output_type": "stream",
     "text": [
      "\n",
      "-------------------------------------------------------------------------------\n",
      "hgroup                                                           research level\n",
      "-------------------------------------------------------------------------------\n",
      "\n",
      "                  Type: Numeric (long)\n",
      "                 Label: hgroup\n",
      "\n",
      "                 Range: [1,4]                         Units: 1\n",
      "         Unique values: 4                         Missing .: 0/581\n",
      "\n",
      "            Tabulation: Freq.   Numeric  Label\n",
      "                           34         1  Highest\n",
      "                           37         2  Very high\n",
      "                           72         3  High\n",
      "                          438         4  Some/None\n"
     ]
    }
   ],
   "source": [
    "codebook hgroup"
   ]
  },
  {
   "cell_type": "code",
   "execution_count": 9,
   "metadata": {},
   "outputs": [],
   "source": [
    "bysort hgroup: egen mn_sgrnt_low_inc=mean(sgrnt_low_inc)"
   ]
  },
  {
   "cell_type": "code",
   "execution_count": 10,
   "metadata": {
    "tags": []
   },
   "outputs": [
    {
     "data": {
      "text/html": [
       "<div>\n",
       "<style scoped>\n",
       "    .dataframe tbody tr th:only-of-type {\n",
       "        vertical-align: middle;\n",
       "    }\n",
       "\n",
       "    .dataframe tbody tr th {\n",
       "        vertical-align: top;\n",
       "    }\n",
       "\n",
       "    .dataframe thead th {\n",
       "        text-align: right;\n",
       "    }\n",
       "</style>\n",
       "<table border=\"1\" class=\"dataframe\">\n",
       "  <thead>\n",
       "    <tr style=\"text-align: right;\">\n",
       "      <th></th>\n",
       "      <th>year</th>\n",
       "      <th>instnm</th>\n",
       "      <th>stabbr</th>\n",
       "      <th>control</th>\n",
       "      <th>hgroupstring</th>\n",
       "      <th>highdeg</th>\n",
       "      <th>igrnt_low_inc</th>\n",
       "      <th>sgrnt_low_inc</th>\n",
       "      <th>hgrouptemp</th>\n",
       "      <th>hgroup</th>\n",
       "      <th>mn_sgrnt_low_inc</th>\n",
       "    </tr>\n",
       "  </thead>\n",
       "  <tbody>\n",
       "    <tr>\n",
       "      <th>1</th>\n",
       "      <td>2015</td>\n",
       "      <td>University of Washington-Seattle Campus</td>\n",
       "      <td>WA</td>\n",
       "      <td>1</td>\n",
       "      <td>AAU Public</td>\n",
       "      <td>4</td>\n",
       "      <td>14053.5</td>\n",
       "      <td>7218.514</td>\n",
       "      <td>AAU Public</td>\n",
       "      <td>Highest</td>\n",
       "      <td>6340.64</td>\n",
       "    </tr>\n",
       "    <tr>\n",
       "      <th>2</th>\n",
       "      <td>2015</td>\n",
       "      <td>University of Arizona</td>\n",
       "      <td>AZ</td>\n",
       "      <td>1</td>\n",
       "      <td>AAU Public</td>\n",
       "      <td>4</td>\n",
       "      <td>20377.74</td>\n",
       "      <td>33.64918</td>\n",
       "      <td>AAU Public</td>\n",
       "      <td>Highest</td>\n",
       "      <td>6340.64</td>\n",
       "    </tr>\n",
       "    <tr>\n",
       "      <th>3</th>\n",
       "      <td>2015</td>\n",
       "      <td>Rutgers University-New Brunswick</td>\n",
       "      <td>NJ</td>\n",
       "      <td>1</td>\n",
       "      <td>AAU Public</td>\n",
       "      <td>4</td>\n",
       "      <td>10849.94</td>\n",
       "      <td>6880.271</td>\n",
       "      <td>AAU Public</td>\n",
       "      <td>Highest</td>\n",
       "      <td>6340.64</td>\n",
       "    </tr>\n",
       "    <tr>\n",
       "      <th>4</th>\n",
       "      <td>2015</td>\n",
       "      <td>Georgia Institute of Technology-Main Campus</td>\n",
       "      <td>GA</td>\n",
       "      <td>1</td>\n",
       "      <td>AAU Public</td>\n",
       "      <td>4</td>\n",
       "      <td>10493.57</td>\n",
       "      <td>40112.09</td>\n",
       "      <td>AAU Public</td>\n",
       "      <td>Highest</td>\n",
       "      <td>6340.64</td>\n",
       "    </tr>\n",
       "    <tr>\n",
       "      <th>5</th>\n",
       "      <td>2015</td>\n",
       "      <td>University of Michigan-Ann Arbor</td>\n",
       "      <td>MI</td>\n",
       "      <td>1</td>\n",
       "      <td>AAU Public</td>\n",
       "      <td>4</td>\n",
       "      <td>45437.91</td>\n",
       "      <td>563.163</td>\n",
       "      <td>AAU Public</td>\n",
       "      <td>Highest</td>\n",
       "      <td>6340.64</td>\n",
       "    </tr>\n",
       "  </tbody>\n",
       "</table>\n",
       "</div>"
      ]
     },
     "metadata": {},
     "output_type": "display_data"
    }
   ],
   "source": [
    "%head"
   ]
  },
  {
   "cell_type": "code",
   "execution_count": 11,
   "metadata": {},
   "outputs": [],
   "source": [
    "gen sqdv_sgrnt_low_inc=(igrnt_low_inc-mn_sgrnt_low_inc)^2"
   ]
  },
  {
   "cell_type": "code",
   "execution_count": 12,
   "metadata": {
    "tags": []
   },
   "outputs": [
    {
     "data": {
      "text/html": [
       "<div>\n",
       "<style scoped>\n",
       "    .dataframe tbody tr th:only-of-type {\n",
       "        vertical-align: middle;\n",
       "    }\n",
       "\n",
       "    .dataframe tbody tr th {\n",
       "        vertical-align: top;\n",
       "    }\n",
       "\n",
       "    .dataframe thead th {\n",
       "        text-align: right;\n",
       "    }\n",
       "</style>\n",
       "<table border=\"1\" class=\"dataframe\">\n",
       "  <thead>\n",
       "    <tr style=\"text-align: right;\">\n",
       "      <th></th>\n",
       "      <th>year</th>\n",
       "      <th>instnm</th>\n",
       "      <th>stabbr</th>\n",
       "      <th>control</th>\n",
       "      <th>hgroupstring</th>\n",
       "      <th>highdeg</th>\n",
       "      <th>igrnt_low_inc</th>\n",
       "      <th>sgrnt_low_inc</th>\n",
       "      <th>hgrouptemp</th>\n",
       "      <th>hgroup</th>\n",
       "      <th>mn_sgrnt_low_inc</th>\n",
       "      <th>sqdv_sgrnt_low_inc</th>\n",
       "    </tr>\n",
       "  </thead>\n",
       "  <tbody>\n",
       "    <tr>\n",
       "      <th>1</th>\n",
       "      <td>2015</td>\n",
       "      <td>University of Washington-Seattle Campus</td>\n",
       "      <td>WA</td>\n",
       "      <td>1</td>\n",
       "      <td>AAU Public</td>\n",
       "      <td>4</td>\n",
       "      <td>14053.5</td>\n",
       "      <td>7218.514</td>\n",
       "      <td>AAU Public</td>\n",
       "      <td>Highest</td>\n",
       "      <td>6340.64</td>\n",
       "      <td>5.95e+07</td>\n",
       "    </tr>\n",
       "    <tr>\n",
       "      <th>2</th>\n",
       "      <td>2015</td>\n",
       "      <td>University of Arizona</td>\n",
       "      <td>AZ</td>\n",
       "      <td>1</td>\n",
       "      <td>AAU Public</td>\n",
       "      <td>4</td>\n",
       "      <td>20377.74</td>\n",
       "      <td>33.64918</td>\n",
       "      <td>AAU Public</td>\n",
       "      <td>Highest</td>\n",
       "      <td>6340.64</td>\n",
       "      <td>1.97e+08</td>\n",
       "    </tr>\n",
       "    <tr>\n",
       "      <th>3</th>\n",
       "      <td>2015</td>\n",
       "      <td>Rutgers University-New Brunswick</td>\n",
       "      <td>NJ</td>\n",
       "      <td>1</td>\n",
       "      <td>AAU Public</td>\n",
       "      <td>4</td>\n",
       "      <td>10849.94</td>\n",
       "      <td>6880.271</td>\n",
       "      <td>AAU Public</td>\n",
       "      <td>Highest</td>\n",
       "      <td>6340.64</td>\n",
       "      <td>2.03e+07</td>\n",
       "    </tr>\n",
       "    <tr>\n",
       "      <th>4</th>\n",
       "      <td>2015</td>\n",
       "      <td>Georgia Institute of Technology-Main Campus</td>\n",
       "      <td>GA</td>\n",
       "      <td>1</td>\n",
       "      <td>AAU Public</td>\n",
       "      <td>4</td>\n",
       "      <td>10493.57</td>\n",
       "      <td>40112.09</td>\n",
       "      <td>AAU Public</td>\n",
       "      <td>Highest</td>\n",
       "      <td>6340.64</td>\n",
       "      <td>1.72e+07</td>\n",
       "    </tr>\n",
       "    <tr>\n",
       "      <th>5</th>\n",
       "      <td>2015</td>\n",
       "      <td>University of Michigan-Ann Arbor</td>\n",
       "      <td>MI</td>\n",
       "      <td>1</td>\n",
       "      <td>AAU Public</td>\n",
       "      <td>4</td>\n",
       "      <td>45437.91</td>\n",
       "      <td>563.163</td>\n",
       "      <td>AAU Public</td>\n",
       "      <td>Highest</td>\n",
       "      <td>6340.64</td>\n",
       "      <td>1.53e+09</td>\n",
       "    </tr>\n",
       "  </tbody>\n",
       "</table>\n",
       "</div>"
      ]
     },
     "metadata": {},
     "output_type": "display_data"
    }
   ],
   "source": [
    "%head"
   ]
  },
  {
   "cell_type": "code",
   "execution_count": 13,
   "metadata": {},
   "outputs": [],
   "source": [
    "collapse ///\n",
    "(count) n=sgrnt_low_inc ///\n",
    "(first) mn_sgrnt_low_inc ///\n",
    "(sum) ssqdv_sgrnt_low= sqdv_sgrnt_low_inc ///\n",
    ", by(hgroup)"
   ]
  },
  {
   "cell_type": "code",
   "execution_count": 14,
   "metadata": {},
   "outputs": [
    {
     "data": {
      "text/html": [
       "<div>\n",
       "<style scoped>\n",
       "    .dataframe tbody tr th:only-of-type {\n",
       "        vertical-align: middle;\n",
       "    }\n",
       "\n",
       "    .dataframe tbody tr th {\n",
       "        vertical-align: top;\n",
       "    }\n",
       "\n",
       "    .dataframe thead th {\n",
       "        text-align: right;\n",
       "    }\n",
       "</style>\n",
       "<table border=\"1\" class=\"dataframe\">\n",
       "  <thead>\n",
       "    <tr style=\"text-align: right;\">\n",
       "      <th></th>\n",
       "      <th>hgroup</th>\n",
       "      <th>n</th>\n",
       "      <th>mn_sgrnt_low_inc</th>\n",
       "      <th>ssqdv_sgrnt_low</th>\n",
       "    </tr>\n",
       "  </thead>\n",
       "  <tbody>\n",
       "    <tr>\n",
       "      <th>1</th>\n",
       "      <td>Highest</td>\n",
       "      <td>34</td>\n",
       "      <td>6340.64</td>\n",
       "      <td>7.81e+09</td>\n",
       "    </tr>\n",
       "    <tr>\n",
       "      <th>2</th>\n",
       "      <td>Very high</td>\n",
       "      <td>37</td>\n",
       "      <td>6196.042</td>\n",
       "      <td>4.66e+09</td>\n",
       "    </tr>\n",
       "    <tr>\n",
       "      <th>3</th>\n",
       "      <td>High</td>\n",
       "      <td>72</td>\n",
       "      <td>3874.735</td>\n",
       "      <td>1.78e+10</td>\n",
       "    </tr>\n",
       "    <tr>\n",
       "      <th>4</th>\n",
       "      <td>Some/None</td>\n",
       "      <td>438</td>\n",
       "      <td>3109.573</td>\n",
       "      <td>9.60e+09</td>\n",
       "    </tr>\n",
       "  </tbody>\n",
       "</table>\n",
       "</div>"
      ]
     },
     "metadata": {},
     "output_type": "display_data"
    }
   ],
   "source": [
    "%head"
   ]
  },
  {
   "cell_type": "code",
   "execution_count": 15,
   "metadata": {},
   "outputs": [],
   "source": [
    "gen sd_sgrnt_low_inc=sqrt(ssqdv_sgrnt_low/(n-1))"
   ]
  },
  {
   "cell_type": "code",
   "execution_count": 16,
   "metadata": {},
   "outputs": [
    {
     "data": {
      "text/html": [
       "<div>\n",
       "<style scoped>\n",
       "    .dataframe tbody tr th:only-of-type {\n",
       "        vertical-align: middle;\n",
       "    }\n",
       "\n",
       "    .dataframe tbody tr th {\n",
       "        vertical-align: top;\n",
       "    }\n",
       "\n",
       "    .dataframe thead th {\n",
       "        text-align: right;\n",
       "    }\n",
       "</style>\n",
       "<table border=\"1\" class=\"dataframe\">\n",
       "  <thead>\n",
       "    <tr style=\"text-align: right;\">\n",
       "      <th></th>\n",
       "      <th>hgroup</th>\n",
       "      <th>n</th>\n",
       "      <th>mn_sgrnt_low_inc</th>\n",
       "      <th>ssqdv_sgrnt_low</th>\n",
       "      <th>sd_sgrnt_low_inc</th>\n",
       "    </tr>\n",
       "  </thead>\n",
       "  <tbody>\n",
       "    <tr>\n",
       "      <th>1</th>\n",
       "      <td>Highest</td>\n",
       "      <td>34</td>\n",
       "      <td>6340.64</td>\n",
       "      <td>7.81e+09</td>\n",
       "      <td>15380.14</td>\n",
       "    </tr>\n",
       "    <tr>\n",
       "      <th>2</th>\n",
       "      <td>Very high</td>\n",
       "      <td>37</td>\n",
       "      <td>6196.042</td>\n",
       "      <td>4.66e+09</td>\n",
       "      <td>11381.04</td>\n",
       "    </tr>\n",
       "    <tr>\n",
       "      <th>3</th>\n",
       "      <td>High</td>\n",
       "      <td>72</td>\n",
       "      <td>3874.735</td>\n",
       "      <td>1.78e+10</td>\n",
       "      <td>15840.99</td>\n",
       "    </tr>\n",
       "    <tr>\n",
       "      <th>4</th>\n",
       "      <td>Some/None</td>\n",
       "      <td>438</td>\n",
       "      <td>3109.573</td>\n",
       "      <td>9.60e+09</td>\n",
       "      <td>4686.136</td>\n",
       "    </tr>\n",
       "  </tbody>\n",
       "</table>\n",
       "</div>"
      ]
     },
     "metadata": {},
     "output_type": "display_data"
    }
   ],
   "source": [
    "%head"
   ]
  },
  {
   "cell_type": "code",
   "execution_count": 17,
   "metadata": {},
   "outputs": [],
   "source": [
    "gen se_sgrnt_low_inc= sd_sgrnt_low_inc/sqrt(n-1)"
   ]
  },
  {
   "cell_type": "code",
   "execution_count": 18,
   "metadata": {},
   "outputs": [
    {
     "data": {
      "text/html": [
       "<div>\n",
       "<style scoped>\n",
       "    .dataframe tbody tr th:only-of-type {\n",
       "        vertical-align: middle;\n",
       "    }\n",
       "\n",
       "    .dataframe tbody tr th {\n",
       "        vertical-align: top;\n",
       "    }\n",
       "\n",
       "    .dataframe thead th {\n",
       "        text-align: right;\n",
       "    }\n",
       "</style>\n",
       "<table border=\"1\" class=\"dataframe\">\n",
       "  <thead>\n",
       "    <tr style=\"text-align: right;\">\n",
       "      <th></th>\n",
       "      <th>hgroup</th>\n",
       "      <th>n</th>\n",
       "      <th>mn_sgrnt_low_inc</th>\n",
       "      <th>ssqdv_sgrnt_low</th>\n",
       "      <th>sd_sgrnt_low_inc</th>\n",
       "      <th>se_sgrnt_low_inc</th>\n",
       "    </tr>\n",
       "  </thead>\n",
       "  <tbody>\n",
       "    <tr>\n",
       "      <th>1</th>\n",
       "      <td>Highest</td>\n",
       "      <td>34</td>\n",
       "      <td>6340.64</td>\n",
       "      <td>7.81e+09</td>\n",
       "      <td>15380.14</td>\n",
       "      <td>2677.338</td>\n",
       "    </tr>\n",
       "    <tr>\n",
       "      <th>2</th>\n",
       "      <td>Very high</td>\n",
       "      <td>37</td>\n",
       "      <td>6196.042</td>\n",
       "      <td>4.66e+09</td>\n",
       "      <td>11381.04</td>\n",
       "      <td>1896.84</td>\n",
       "    </tr>\n",
       "    <tr>\n",
       "      <th>3</th>\n",
       "      <td>High</td>\n",
       "      <td>72</td>\n",
       "      <td>3874.735</td>\n",
       "      <td>1.78e+10</td>\n",
       "      <td>15840.99</td>\n",
       "      <td>1879.98</td>\n",
       "    </tr>\n",
       "    <tr>\n",
       "      <th>4</th>\n",
       "      <td>Some/None</td>\n",
       "      <td>438</td>\n",
       "      <td>3109.573</td>\n",
       "      <td>9.60e+09</td>\n",
       "      <td>4686.136</td>\n",
       "      <td>224.1683</td>\n",
       "    </tr>\n",
       "  </tbody>\n",
       "</table>\n",
       "</div>"
      ]
     },
     "metadata": {},
     "output_type": "display_data"
    }
   ],
   "source": [
    "%head"
   ]
  },
  {
   "cell_type": "code",
   "execution_count": 19,
   "metadata": {},
   "outputs": [],
   "source": [
    "generate hi_sgrnt_low_inc = mn_sgrnt_low_inc + 1.96 * se_sgrnt_low_inc\n",
    "generate lo_sgrnt_low_inc = mn_sgrnt_low_inc - 1.96 * se_sgrnt_low_inc"
   ]
  },
  {
   "cell_type": "markdown",
   "metadata": {},
   "source": [
    "### 3. Create a bar graph with confidence interval whiskers\n",
    "\n",
    "Create a bar graph that compares interval ratio data for a dependent variable across different nominal categories from an independent variable. If you are using Charlie's data, do this for the state grant aid per low income student variable name **sgrnt_low**"
   ]
  },
  {
   "cell_type": "code",
   "execution_count": 20,
   "metadata": {},
   "outputs": [
    {
     "data": {
      "image/png": "[encoded data removed]",
      "text/plain": [
       "<IPython.core.display.Image object>"
      ]
     },
     "metadata": {},
     "output_type": "display_data"
    }
   ],
   "source": [
    "graph twoway (bar mn_sgrnt_low_inc hgroup, barw(.5)) ///\n",
    "(rcap hi_sgrnt_low_inc lo_sgrnt_low_inc hgroup) , ///\n",
    "xlabel( 1 \"Highest\" 2 \"High\" 3 \"Very High\" 4 \"Some/None\", noticks) ///\n",
    "ytitle(\"State grant aid per low income student ($)\") ///\n",
    "ylabel(0(5000)20000, format(%10.0fc)) ///\n",
    "xtitle(\"Research Intensiveness\") legend(off) name(igrntbar, replace) ///\n",
    "title(\"State Grant Aid per Low-Income Student by Type of Research University\")  ///\n",
    "yline(1936.825, lp(_) lcolor(red) lstyle(foreground)) scheme(plotplainblind)"
   ]
  },
  {
   "cell_type": "markdown",
   "metadata": {},
   "source": [
    "### 4. Summarize what you learned from the bar graph\n",
    "\n",
    "Do the confidence intervals overlap across categories or not? What does this mean?\n",
    "\n",
    "The confidence interval, or the whiskers, represents the places where the population mean may reside. As the confidence intervals overlap, this means that their relationship is not statistically significant because the whiskers have a lot of overlap. There may not be differences in the population means for different reserach intensiveness of universities. The means will be similar between the highs and very highs, where there will not be a lot of variance. As such, it is very likely that research intensivenss of univerties is not statistically significant to the amount of State Grant Aid per low income student. \n"
   ]
  },
  {
   "cell_type": "markdown",
   "metadata": {},
   "source": []
  },
  {
   "cell_type": "markdown",
   "metadata": {},
   "source": [
    "### 4. Estimate OLS regression statistics for the relationship between two interval ratio variables and ouput the table below\n",
    "\n",
    "If you use Charlie's data, use the loan repayment variable and the **netprice4lowincome** variable."
   ]
  },
  {
   "cell_type": "code",
   "execution_count": 21,
   "metadata": {},
   "outputs": [
    {
     "name": "stdout",
     "output_type": "stream",
     "text": [
      "(19 vars, 33 obs)\n",
      "opeid               stabbr              spend_ugd_4yr_low   instatetuition\n",
      "acceptrate          hgroup              x_aid_bysticker     xstring\n",
      "y_lo_inc_rpy        upgrntn             sgrnt_low_inc       ystring\n",
      "lo_inc_debt_mdn     all_under           igrnt_low_inc       markerlabel\n",
      "instnm              netprice4lowincome  sandigrnt_low_inc\n"
     ]
    }
   ],
   "source": [
    "insheet using loanrepay2013_highestresearch.csv, clear\n",
    "ds, varwidth(25)"
   ]
  },
  {
   "cell_type": "code",
   "execution_count": 22,
   "metadata": {
    "tags": []
   },
   "outputs": [
    {
     "name": "stdout",
     "output_type": "stream",
     "text": [
      "\n",
      "      Source |       SS           df       MS      Number of obs   =        33\n",
      "-------------+----------------------------------   F(1, 31)        =      8.48\n",
      "       Model |  473.546336         1  473.546336   Prob > F        =    0.0066\n",
      "    Residual |  1730.93895        31  55.8367402   R-squared       =    0.2148\n",
      "-------------+----------------------------------   Adj R-squared   =    0.1895\n",
      "       Total |  2204.48528        32  68.8901651   Root MSE        =    7.4724\n",
      "\n",
      "------------------------------------------------------------------------------\n",
      "y_lo_inc_rpy | Coefficient  Std. err.      t    P>|t|     [95% conf. interval]\n",
      "-------------+----------------------------------------------------------------\n",
      "netprice4l~e |  -.0011662   .0004005    -2.91   0.007    -.0019829   -.0003495\n",
      "       _cons |   76.56364   3.782187    20.24   0.000     68.84982    84.27746\n",
      "------------------------------------------------------------------------------\n"
     ]
    }
   ],
   "source": [
    "regress y_lo_inc_rpy netprice4lowincome"
   ]
  },
  {
   "cell_type": "markdown",
   "metadata": {},
   "source": [
    "### 5. Interpret the output\n",
    "\n",
    "1. What is the coefficient for your independent variable? What does it say about the size and direction of the relationship you estimated?\n",
    "\n",
    "2. What is the p-value for the coefficient for your independent variable? What does it indicate about how much confidence we can have in the estimated relationship?\n",
    "\n",
    "3. What is the $r^2$ coefficient of determination? What does it say about how much variation in your dependent variable is explained by the independent variable?\n",
    "\n",
    "4. What is the F-ratio for your $r^2$. What does it indicate about how much confidence we can have in the $r^2$ estimate?\n",
    "\n"
   ]
  },
  {
   "cell_type": "markdown",
   "metadata": {},
   "source": [
    "1. The coefficient for my independent variable, \"net price of college for low income stuents\", is -0.0011662, or just -0.001 rounded up, obtained thorough examining the table created by using the \"regress\" command. This indicates that there is a minisculely small negative relagionship between the independent and dependent variable. \n",
    "\n",
    "2. Tne p-value for the coefficient for my independent variable is 0.007 (0.0066), which is less than 0.05 (95%) confidene interval, obtained thorough examining the table created by using the \"regress\" command. This would indicate that the relationship dipicted is statistically significant. \n",
    "\n",
    "3. The coefficient of determination/R Squared for this assignment is 0.21(0.2148), obtained thorough examining the table created by using the \"regress\" command. This R Squared Value indicates that 21% of the variance in the dependent variable is explained by the independent variable. \n",
    "\n",
    "4. The f-ratio for my R squared is 8.48, much greater than 4.16, suggesting a high confidence level in our r-suqared value.\n"
   ]
  },
  {
   "cell_type": "markdown",
   "metadata": {},
   "source": [
    "### 6. Illustrate the OLS relationship with a scatter plot that includes a fitted line"
   ]
  },
  {
   "cell_type": "code",
   "execution_count": 25,
   "metadata": {
    "tags": []
   },
   "outputs": [
    {
     "data": {
      "image/png": "[encoded data removed]",
      "text/plain": [
       "<IPython.core.display.Image object>"
      ]
     },
     "metadata": {},
     "output_type": "display_data"
    }
   ],
   "source": [
    "tw (scatter y_lo_inc_rpy netprice4lowincome) ///\n",
    "(lfit y_lo_inc_rpy netprice4lowincome, color(red)), ///\n",
    "ytitle(\"% Loan repayment\") ///\n",
    "xtitle(\"Net price paid per low income student\") legend(off) scheme(plotplainblind)"
   ]
  },
  {
   "cell_type": "code",
   "execution_count": 26,
   "metadata": {
    "tags": []
   },
   "outputs": [
    {
     "name": "stdout",
     "output_type": "stream",
     "text": [
      "      name:  <unnamed>\n",
      "       log:  /Users/aaronzhao/Documents/GitHub/Graduate-Statistics-and-Data-Sci\n",
      "> ence-for-Sociology/week5/Log for Problem Set 2.log\n",
      "  log type:  text\n",
      " closed on:  19 Feb 2024, 20:55:24\n",
      "-------------------------------------------------------------------------------\n"
     ]
    }
   ],
   "source": [
    "log close"
   ]
  },
  {
   "cell_type": "code",
   "execution_count": null,
   "metadata": {},
   "outputs": [],
   "source": []
  }
 ],
 "metadata": {
  "kernelspec": {
   "display_name": "Stata (nbstata)",
   "language": "stata",
   "name": "nbstata"
  },
  "language_info": {
   "file_extension": ".do",
   "mimetype": "text/x-stata",
   "name": "stata",
   "version": "17"
  }
 },
 "nbformat": 4,
 "nbformat_minor": 4
}
