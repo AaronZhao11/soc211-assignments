{
 "cells": [
  {
   "cell_type": "markdown",
   "metadata": {},
   "source": [
    "# Problem set 4\n",
    "\n",
    "\n",
    "[Aaron Zhao]\n",
    "\n",
    "[Education and Confidence in Education] \n",
    "\n",
    "[03/18/2024]"
   ]
  },
  {
   "cell_type": "markdown",
   "metadata": {},
   "source": [
    "## 1. Visually assess heteroscedasticity [1 pt]\n",
    "\n",
    "    A. Create a scatterplot of a dependent variable and independent variable of interest from a dataset of your choice.\n",
    "    \n",
    "    B. Include a fitted line with an area graph of the confidence interval for the prediction.\n",
    "    \n",
    "    C. Write a couple sentences describing how the distribution of the data in the graph does or does not appear to be heteroscedastic."
   ]
  },
  {
   "cell_type": "code",
   "execution_count": 1,
   "metadata": {
    "tags": []
   },
   "outputs": [
    {
     "data": {
      "text/html": [
       "<style>div.jp-Notebook .datagrid-container {min-height: 448px; }</style>"
      ],
      "text/plain": [
       "<IPython.core.display.HTML object>"
      ]
     },
     "metadata": {},
     "output_type": "display_data"
    },
    {
     "name": "stdout",
     "output_type": "stream",
     "text": [
      "\n"
     ]
    }
   ],
   "source": [
    "set maxvar 120000\n",
    "use \"/Users/aaronzhao/Desktop/Desktop/GSS_stata 3/gss7222_r2.dta\", clear\n",
    "eststo clear"
   ]
  },
  {
   "cell_type": "code",
   "execution_count": 2,
   "metadata": {
    "tags": []
   },
   "outputs": [],
   "source": [
    "keep coneduc educ"
   ]
  },
  {
   "cell_type": "code",
   "execution_count": 3,
   "metadata": {
    "tags": []
   },
   "outputs": [
    {
     "name": "stdout",
     "output_type": "stream",
     "text": [
      "\n",
      "-------------------------------------------------------------------------------\n",
      "coneduc                                                 confidence in education\n",
      "-------------------------------------------------------------------------------\n",
      "\n",
      "                  Type: Numeric (byte)\n",
      "                 Label: INSTCONF\n",
      "\n",
      "                 Range: [1,3]                         Units: 1\n",
      "         Unique values: 3                         Missing .: 0/72,390\n",
      "       Unique mv codes: 4                        Missing .*: 23,990/72,390\n",
      "\n",
      "            Tabulation: Freq.   Numeric  Label\n",
      "                       13,856         1  a great deal\n",
      "                       27,230         2  only some\n",
      "                        7,314         3  hardly any\n",
      "                          555        .d  don't know\n",
      "                       23,292        .i  iap\n",
      "                          122        .n  no answer\n",
      "                           21        .s  skipped on web\n",
      "\n",
      "-------------------------------------------------------------------------------\n",
      "educ                                           highest year of school completed\n",
      "-------------------------------------------------------------------------------\n",
      "\n",
      "                  Type: Numeric (byte)\n",
      "                 Label: EDUC, but 20 nonmissing values are not labeled\n",
      "\n",
      "                 Range: [0,20]                        Units: 1\n",
      "         Unique values: 21                        Missing .: 0/72,390\n",
      "       Unique mv codes: 2                        Missing .*: 263/72,390\n",
      "\n",
      "              Examples: 11    \n",
      "                        12    \n",
      "                        14    \n",
      "                        16    \n"
     ]
    }
   ],
   "source": [
    "codebook coneduc educ"
   ]
  },
  {
   "cell_type": "code",
   "execution_count": 4,
   "metadata": {
    "tags": []
   },
   "outputs": [
    {
     "name": "stdout",
     "output_type": "stream",
     "text": [
      "(72,390 missing values generated)\n",
      "(7,314 changes made to coneducation)\n",
      "(27,230 changes made to coneducation)\n",
      "(13,856 changes made to coneducation)\n",
      "\n",
      "        confidence in |           Confidence in Education\n",
      "            education |         1          2          3          . |     Total\n",
      "----------------------+--------------------------------------------+----------\n",
      "         a great deal |         0          0     13,856          0 |    13,856 \n",
      "            only some |         0     27,230          0          0 |    27,230 \n",
      "           hardly any |     7,314          0          0          0 |     7,314 \n",
      "           don't know |         0          0          0        555 |       555 \n",
      "                  iap |         0          0          0     23,292 |    23,292 \n",
      "            no answer |         0          0          0        122 |       122 \n",
      "       skipped on web |         0          0          0         21 |        21 \n",
      "----------------------+--------------------------------------------+----------\n",
      "                Total |     7,314     27,230     13,856     23,990 |    72,390 \n"
     ]
    }
   ],
   "source": [
    "gen coneducation=.  //higher values=more confidence\n",
    "recode coneducation .=1 if coneduc==3\n",
    "recode coneducation .=2 if coneduc==2 \n",
    "recode coneducation .=3 if coneduc==1\n",
    "label values coneducation confmt\n",
    "label var coneducation \"Confidence in Education\"\n",
    "tab coneduc coneducation, m"
   ]
  },
  {
   "cell_type": "code",
   "execution_count": 5,
   "metadata": {
    "tags": []
   },
   "outputs": [
    {
     "name": "stdout",
     "output_type": "stream",
     "text": [
      "graph size was (5.5in, 4in), is now (5.5in, 8).\n"
     ]
    }
   ],
   "source": [
    "%set graph_height = 8"
   ]
  },
  {
   "cell_type": "code",
   "execution_count": 6,
   "metadata": {
    "tags": []
   },
   "outputs": [
    {
     "name": "stdout",
     "output_type": "stream",
     "text": [
      "graph size was (5.5in, 8), is now (11, 8).\n"
     ]
    }
   ],
   "source": [
    "%set graph_width = 11"
   ]
  },
  {
   "cell_type": "code",
   "execution_count": 7,
   "metadata": {},
   "outputs": [
    {
     "name": "stdout",
     "output_type": "stream",
     "text": [
      "(note: scheme 538w not found, using s2color)\n"
     ]
    },
    {
     "data": {
      "image/png": "[encoded data removed]",
      "text/plain": [
       "<IPython.core.display.Image object>"
      ]
     },
     "metadata": {},
     "output_type": "display_data"
    }
   ],
   "source": [
    "tw (scatter coneducation educ) ///\n",
    "(lfitci coneducation educ), ///\n",
    "ytitle(coneducation, size(large)) ///\n",
    "xtitle(,size(large)) legend(off) scheme(538w) ///\n",
    "title(\"Confidence in Education based on Education Attainment\" \" \", span size(large)) ///\n",
    "aspect(1, place(west))"
   ]
  },
  {
   "cell_type": "code",
   "execution_count": null,
   "metadata": {},
   "outputs": [],
   "source": [
    "PART C: Interpretating heteroscedasticity\n",
    "\n",
    "In the plot I have generated, the vertical spread of the points does not seem to change systematically across the categories\n",
    "of education attainment. The scatter appears relatively constant. There appears to be no heteroscedasticity happening."
   ]
  },
  {
   "cell_type": "markdown",
   "metadata": {},
   "source": [
    "## 2. Test for heteroscedasticity [1 pt]\n",
    "\n",
    "    A. Do a Breusch-Pagan postestimation test for heteroscedasticity in your dependent variable and independent variable relationship.\n",
    "\n",
    "    B. Reestimate the regression after logging the DV or IV if appropriate and do another Breusch-Pagan test. Does logging reduce heteroscedasticity?"
   ]
  },
  {
   "cell_type": "code",
   "execution_count": 8,
   "metadata": {},
   "outputs": [
    {
     "name": "stdout",
     "output_type": "stream",
     "text": [
      "\n",
      "Breusch–Pagan/Cook–Weisberg test for heteroskedasticity \n",
      "Assumption: Normal error terms\n",
      "Variable: Fitted values of coneducation\n",
      "\n",
      "H0: Constant variance\n",
      "\n",
      "    chi2(1) =  91.27\n",
      "Prob > chi2 = 0.0000\n"
     ]
    }
   ],
   "source": [
    "quietly reg coneducation educ\n",
    "estat hettest"
   ]
  },
  {
   "cell_type": "markdown",
   "metadata": {},
   "source": [
    "As I only have one independent variable in my model, being educational attainment, it is natural that my degree of freedom is 1. Since my p-value of 0.0000 is less than 0.05, I am rejecting the null hypothesis of constant variance. There is satatistically significant evidence of heteroscedasticity in my model."
   ]
  },
  {
   "cell_type": "markdown",
   "metadata": {},
   "source": [
    "Dont need log because my variable does not require it. "
   ]
  },
  {
   "cell_type": "markdown",
   "metadata": {},
   "source": [
    "## 3. Boot strap your standard errors [1 pt.]\n",
    "\n",
    "    A. Quietly reestimate your regression coefficient with convential OLS and store the results.\n",
    "    \n",
    "    B. Quietly reestimate your regression with bootstrapped standard errors and store the results.\n",
    "    \n",
    "    C. Use esttab to output the results of the two models and tell us how the bootstrap standard erros differ from the conventional results.\n",
    "    \n",
    "    D. Explain in your own words what the bootstrap procedure is doing and why it yields similar or different standard errors to the convential model."
   ]
  },
  {
   "cell_type": "code",
   "execution_count": 9,
   "metadata": {},
   "outputs": [
    {
     "name": "stdout",
     "output_type": "stream",
     "text": [
      "(est1 stored)\n"
     ]
    }
   ],
   "source": [
    "eststo: quietly reg coneducation educ"
   ]
  },
  {
   "cell_type": "code",
   "execution_count": 10,
   "metadata": {
    "tags": []
   },
   "outputs": [
    {
     "name": "stdout",
     "output_type": "stream",
     "text": [
      "(est2 stored)\n"
     ]
    }
   ],
   "source": [
    "eststo: quietly bootstrap _b[educ], rep(1000) nodots : ///\n",
    "    reg coneducation educ"
   ]
  },
  {
   "cell_type": "code",
   "execution_count": 12,
   "metadata": {
    "tags": []
   },
   "outputs": [
    {
     "name": "stdout",
     "output_type": "stream",
     "text": [
      "\n",
      "--------------------------------------------\n",
      "                      (1)             (2)   \n",
      "                      OLS       Bootstrap   \n",
      "--------------------------------------------\n",
      "educ                -0.02***                \n",
      "                   (0.00)                   \n",
      "_bs_1                               -0.02***\n",
      "                                   (0.00)   \n",
      "_cons                2.38***                \n",
      "                   (0.01)                   \n",
      "--------------------------------------------\n",
      "N                   48244           48244   \n",
      "--------------------------------------------\n"
     ]
    }
   ],
   "source": [
    "esttab, ///\n",
    "mlabels(\"OLS\" \"Bootstrap\") ///\n",
    "collabels(none)  ///\n",
    "cells(b(star fmt(2)) se(fmt(2) par)) ///\n",
    "starlevels(^ .1 * .05 ** .01 *** .001)"
   ]
  },
  {
   "cell_type": "markdown",
   "metadata": {},
   "source": [
    "There are no changes in the standard errors. As there is no change in my standard errors, the OLS is already robust on its own where the bootstrap sample that was generated is very similar to my original sample, which already provides good estimate of the variability in my data."
   ]
  },
  {
   "cell_type": "markdown",
   "metadata": {},
   "source": [
    "## 4. Estimate robust standard errors [1 pt]\n",
    "\n",
    "    A. Reestimate your model with robust standard errors and store the results.\n",
    "    \n",
    "    B. Use esttab to output the results of the robust model alongside the conventional and bootstrap models and explain how the the results compare in 1 or 2 sentences.\n",
    "    \n",
    "    C. In your own words, explain how the robust standard errors procedure differs from conventional procedures."
   ]
  },
  {
   "cell_type": "code",
   "execution_count": 13,
   "metadata": {},
   "outputs": [
    {
     "name": "stdout",
     "output_type": "stream",
     "text": [
      "(est3 stored)\n"
     ]
    }
   ],
   "source": [
    "eststo: quietly reg coneducation educ, robust"
   ]
  },
  {
   "cell_type": "code",
   "execution_count": 14,
   "metadata": {
    "tags": []
   },
   "outputs": [
    {
     "name": "stdout",
     "output_type": "stream",
     "text": [
      "\n",
      "------------------------------------------------------------\n",
      "                      (1)             (2)             (3)   \n",
      "                      OLS       Bootstrap          Robust   \n",
      "------------------------------------------------------------\n",
      "educ                -0.02***                        -0.02***\n",
      "                   (0.00)                          (0.00)   \n",
      "_bs_1                               -0.02***                \n",
      "                                   (0.00)                   \n",
      "_cons                2.38***                         2.38***\n",
      "                   (0.01)                          (0.01)   \n",
      "------------------------------------------------------------\n",
      "N                   48244           48244           48244   \n",
      "------------------------------------------------------------\n"
     ]
    }
   ],
   "source": [
    "esttab, ///\n",
    "mlabels(\"OLS\" \"Bootstrap\" \"Robust\") ///\n",
    "collabels(none)  ///\n",
    "cells(b(star fmt(2)) se(fmt(2) par)) ///\n",
    "starlevels(^ .1 * .05 ** .01 *** .001)"
   ]
  },
  {
   "cell_type": "markdown",
   "metadata": {},
   "source": [
    "There is no change between my original model and the robust model, therefore the effect of heteroscedasticity (if it is present) may not be significant enough to affect the standard errors. Thus making the OLS method a good fit for this data."
   ]
  },
  {
   "cell_type": "markdown",
   "metadata": {},
   "source": [
    "## 5. Cluster robust standard errors [1 pt]\n",
    "\n",
    "    A. Explain why or why not your model should be estimated with cluster robust standard errors. If yes, what is the clustering unit and why?\n",
    "    \n",
    "    As some GSS variables in the cross-sectional dataset are not collected across all the available years in the overall dataset (such as with Educational Attainment and Confidence in Education), as such I will skip doing the cluster robust standard errors. \n",
    "        \n",
    "    B. If yes, reestimate your model with cluster robust standard errors and use esttab to output the results of the robust model alongside your other models and explain how the the results compare in 1 or 2 sentences.\n",
    "    \n",
    "    No, I do not need to do cluster robust standard errors. \n",
    "    \n",
    "    C. Write a couple sentences explaining what is the best method of standard error estimation for your models and why.\n",
    "    \n",
    "    The best method of standard error estimation for my model is robust model. Robust is better for two reasons: I am using a large data from the GSS that captures a large scale of respondents and their educational attainment and confidence. Secondly, my model is linear, which the robust model is the best standard error estimation for."
   ]
  }
 ],
 "metadata": {
  "kernelspec": {
   "display_name": "Stata (nbstata)",
   "language": "stata",
   "name": "nbstata"
  },
  "language_info": {
   "file_extension": ".do",
   "mimetype": "text/x-stata",
   "name": "stata",
   "version": "17"
  }
 },
 "nbformat": 4,
 "nbformat_minor": 4
}
