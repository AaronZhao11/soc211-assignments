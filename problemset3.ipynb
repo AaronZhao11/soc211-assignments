{
 "cells": [
  {
   "cell_type": "markdown",
   "metadata": {},
   "source": [
    "# Problem set 3\n",
    "\n",
    "[Aaron Zhao]\n",
    "\n",
    "[Student Aid Repayment: Bivariate Non-Linear Relationships] \n",
    "\n",
    "[03/03/2024]"
   ]
  },
  {
   "cell_type": "code",
   "execution_count": 1,
   "metadata": {
    "tags": []
   },
   "outputs": [
    {
     "data": {
      "text/html": [
       "<style>div.jp-Notebook .datagrid-container {min-height: 448px; }</style>"
      ],
      "text/plain": [
       "<IPython.core.display.HTML object>"
      ]
     },
     "metadata": {},
     "output_type": "display_data"
    },
    {
     "name": "stdout",
     "output_type": "stream",
     "text": [
      "(8 vars, 581 obs)\n"
     ]
    }
   ],
   "source": [
    "set more off\n",
    "insheet using /Users/aaronzhao/Documents/GitHub/Graduate-Statistics-and-Data-Science-for-Sociology/week5/grants2015_college_affordability20200218.csv, clear"
   ]
  },
  {
   "cell_type": "code",
   "execution_count": 2,
   "metadata": {
    "tags": []
   },
   "outputs": [
    {
     "name": "stdout",
     "output_type": "stream",
     "text": [
      "year          stabbr        hgroup        igrnt_low_~c\n",
      "instnm        control       highdeg       sgrnt_low_~c\n"
     ]
    }
   ],
   "source": [
    "ds"
   ]
  },
  {
   "cell_type": "code",
   "execution_count": 3,
   "metadata": {
    "tags": []
   },
   "outputs": [],
   "source": [
    "quietly {\n",
    "rename hgroup hgroupstring\n",
    "encode hgroupstring, gen(hgrouptemp)\n",
    "recode hgrouptemp (1=1 \"Highest\") (2=3 \"High\") (3=2 \"Very high\") (4=4 \"Some/None\"), gen(hgroup)\n",
    "qui label var igrnt_low \"institutional grant $ per fte\"\n",
    "qui label var sgrnt_low \"state grant $ per fte\"\n",
    "qui label var hgroup \"research level\"\n",
    "}"
   ]
  },
  {
   "cell_type": "code",
   "execution_count": 4,
   "metadata": {
    "tags": []
   },
   "outputs": [
    {
     "name": "stdout",
     "output_type": "stream",
     "text": [
      "year          stabbr        hgroupstring  igrnt_low_~c  hgrouptemp\n",
      "instnm        control       highdeg       sgrnt_low_~c  hgroup\n"
     ]
    }
   ],
   "source": [
    "ds"
   ]
  },
  {
   "cell_type": "code",
   "execution_count": 5,
   "metadata": {
    "tags": []
   },
   "outputs": [
    {
     "name": "stdout",
     "output_type": "stream",
     "text": [
      "\n",
      "-------------------------------------------------------------------------------\n",
      "hgroup                                                           research level\n",
      "-------------------------------------------------------------------------------\n",
      "\n",
      "                  Type: Numeric (long)\n",
      "                 Label: hgroup\n",
      "\n",
      "                 Range: [1,4]                         Units: 1\n",
      "         Unique values: 4                         Missing .: 0/581\n",
      "\n",
      "            Tabulation: Freq.   Numeric  Label\n",
      "                           34         1  Highest\n",
      "                           37         2  Very high\n",
      "                           72         3  High\n",
      "                          438         4  Some/None\n"
     ]
    }
   ],
   "source": [
    "codebook hgroup"
   ]
  },
  {
   "cell_type": "code",
   "execution_count": 6,
   "metadata": {
    "tags": []
   },
   "outputs": [
    {
     "name": "stdout",
     "output_type": "stream",
     "text": [
      "\n",
      "-------------------------------------------------------------------------------\n",
      "sgrnt_low_inc                                             state grant $ per fte\n",
      "-------------------------------------------------------------------------------\n",
      "\n",
      "                  Type: Numeric (float)\n",
      "\n",
      "                 Range: [0,40112.09]                  Units: 1.000e-06\n",
      "         Unique values: 578                       Missing .: 0/581\n",
      "\n",
      "                  Mean: 3590.03\n",
      "             Std. dev.: 3788.36\n",
      "\n",
      "           Percentiles:     10%       25%       50%       75%       90%\n",
      "                        374.798   1255.38   2955.35   4690.81   6946.94\n"
     ]
    }
   ],
   "source": [
    "codebook sgrnt_low"
   ]
  },
  {
   "cell_type": "code",
   "execution_count": 7,
   "metadata": {
    "tags": []
   },
   "outputs": [
    {
     "name": "stdout",
     "output_type": "stream",
     "text": [
      "\n",
      "Contains data\n",
      " Observations:           581                  \n",
      "    Variables:            10                  \n",
      "-------------------------------------------------------------------------------\n",
      "Variable      Storage   Display    Value\n",
      "    name         type    format    label      Variable label\n",
      "-------------------------------------------------------------------------------\n",
      "year            int     %8.0g                 \n",
      "instnm          str64   %64s                  \n",
      "stabbr          str2    %9s                   \n",
      "control         byte    %8.0g                 \n",
      "hgroupstring    str19   %19s                  \n",
      "highdeg         byte    %8.0g                 \n",
      "igrnt_low_inc   float   %9.0g                 institutional grant $ per fte\n",
      "sgrnt_low_inc   float   %9.0g                 state grant $ per fte\n",
      "hgrouptemp      long    %19.0g     hgrouptemp\n",
      "                                              \n",
      "hgroup          long    %9.0g      hgroup     research level\n",
      "-------------------------------------------------------------------------------\n",
      "Sorted by: \n",
      "     Note: Dataset has changed since last saved.\n"
     ]
    }
   ],
   "source": [
    "describe"
   ]
  },
  {
   "cell_type": "markdown",
   "metadata": {},
   "source": [
    "## 1. Develop hypotheses about two non-linear relationships [1 pt]\n",
    "\n",
    "You can use the GSS data, Student aid data, or your own data. Develop at least 2 hypotheses about non-linear relationships in your dataset of choice that do the following:\n",
    "\n",
    "    A. Use the form: The DV will change positive/negatively if the IV changes positively/negatively/categorically (specify what the variables measure and what the categories are if you have a categorical hypothesis)\n",
    "\n",
    "The dependent variable, state grant aid per student, will change positively if the independent variable, the level of reserach intensiveness of a school, changes positively. In essence, there will be a positive relationship between state grant aid per student and the level of reserach intensiveness of a school. The dependent variable is measuring state grant aid per student whereas the independent variable is measuring the level of reserach intensiveness of a school. The variable category for the dependent variable will be state grant aid per student based on 10, 25, 50, 75, and 90 percentiles. The variable category for the independent variable will be research level of schools based on a scale that has 1 has the highest, 2 as very high, 3 as high, and 4 as some/none. \n",
    "\n",
    "    B. State if you expect each hypothesized relationship will be linear or take one of the 5 non-linear forms (1. nominal, 2. sequential dummies, 3. splines, 4. quadratic, 5. logarithmic). You tell us at least two different non-linear forms that you think your hypothesized relationships will or will not take.\n",
    "\n",
    "I expect each hypothesizzed relationship will be linear, in particular a positive linear relationship where as the level of reserach intensiveness of a school increases the state grant aid per student will increase as well. I believe if my hypothesis does take a non-linear form, it might be a sequential dummies or splines non-linear forms. For sequential dummies, I believe the variables I am dealing with can be divided in such ways that would fit the model beautifully, where the research intensiveness of schools are categorical variables that can be divided in increments. As for splines, the relatioship may change direction or strength abruptly, where potentially at certain point of reserach intensiveness of school the increase in state grnat aid per student may incrase abruptly as a response. I do not believe my hypothesized relationship will take a nominal or logarithmic model. This is because my variables are not categorical data with completely independent categories that do not intersect (like \"race\" variables) nor does it make sense to gradually accelerate or decelerate in a curve. \n",
    "\n",
    "    C. State your explanation why (theory) you make the predictions in A. and B.\n",
    "The reason behind my explanations/theories I made for predictions A and B are from an eximinatino of Doctor Eaton's journal article \"The Organizational Ecology of College Affordability: Research Activity, State Grant Aid Policies, and Student Debt at U.S. Public Universities,\" where in less reserach intensive schools students generally have an easier time paying off their debt. As such, tying back to the concept of predetory school, we can assume that the more reserach intensive a school's reserach is, the higher the charge and subsequently the higher governmental grant aid per student, which leads to higher profits for the schools and more debt for students. As such, my hypothesis in both A and B hinges upon this analysis of Doctor Eaton's work. \n",
    "\n",
    "    D. Tell us the source of your data and describe its sample.\n",
    "The source of data is from Doctor Eaton's data set, grants2015_college_affordability. The sample is US higher education institutions.\n"
   ]
  },
  {
   "cell_type": "markdown",
   "metadata": {},
   "source": [
    "## 2. Conduct statistical tests for your hypothesized relationship: [3 pts]\n",
    "\n",
    "* Estimate at least 2 different types of non-linear models that test your hypotheses.\n",
    "\n",
    "* Use appropriate regression and graphical representations to represent each model.\n",
    "\n",
    "* Use esttab to compare between types of non-linear and linear models"
   ]
  },
  {
   "cell_type": "code",
   "execution_count": 8,
   "metadata": {},
   "outputs": [
    {
     "name": "stdout",
     "output_type": "stream",
     "text": [
      "\n",
      "    Variable |        Obs        Mean    Std. dev.       Min        Max\n",
      "-------------+---------------------------------------------------------\n",
      "sgrnt_low_~c |        581    3590.033    3788.357          0   40112.09\n",
      "      hgroup |        581     3.57315    .8511059          1          4\n"
     ]
    }
   ],
   "source": [
    "*the state grant aid per student is the dependent variable, \n",
    "*whereas reserach intensiveness of a school is the independent variable\n",
    "\n",
    "sum sgrnt_low hgroup"
   ]
  },
  {
   "cell_type": "code",
   "execution_count": 9,
   "metadata": {
    "tags": []
   },
   "outputs": [],
   "source": [
    "xtile squant = sgrnt_low, nq(5)\n",
    "\n",
    "*I am creating a new variable here (called squant) that will consist of quantiles for state grant aid per student\n",
    "\n",
    "*I specified that I want 5 quantiles for this variable with the option \"nq(5)\"\n",
    "\n",
    "*5 quantile means that there would be these categories:\n",
    "    * 1 = 0-20% percentile\n",
    "    * 2 = 20-40% percentile\n",
    "    * 3 = 40-60% percentile\n",
    "    * 4 = 60-80% percentile\n",
    "    * 5 = 80-100% percentile\n",
    "\n",
    "*If you fall into the 10% percentile for instance, that means your value/score is higher than 10% of the sample. \n",
    "*If you fall into the 99% percentile, your value/score is higher than 99% of the sample.\n",
    "\n",
    "//I understand in the lab session Anh is using the independent variable for this step (and below steps)\n",
    "//my independent variable is not continuous so I am using the dependent variable instead for this assignment. "
   ]
  },
  {
   "cell_type": "code",
   "execution_count": 10,
   "metadata": {
    "tags": []
   },
   "outputs": [
    {
     "name": "stdout",
     "output_type": "stream",
     "text": [
      "\n",
      "                    state grant $ per fte\n",
      "-------------------------------------------------------------\n",
      "      Percentiles      Smallest\n",
      " 1%     3.427762              0\n",
      " 5%      90.0805              0\n",
      "10%     374.7984              0       Obs                 581\n",
      "25%     1255.379              0       Sum of wgt.         581\n",
      "\n",
      "50%     2955.348                      Mean           3590.033\n",
      "                        Largest       Std. dev.      3788.357\n",
      "75%     4690.805       22854.09\n",
      "90%     6946.937       32254.32       Variance       1.44e+07\n",
      "95%     8991.016       33224.98       Skewness       4.088276\n",
      "99%     16660.79       40112.09       Kurtosis       31.03328\n",
      "\n",
      "5 quantiles |\n",
      "         of |\n",
      "  sgrnt_low |      Freq.     Percent        Cum.\n",
      "------------+-----------------------------------\n",
      "          1 |        117       20.14       20.14\n",
      "          2 |        116       19.97       40.10\n",
      "          3 |        116       19.97       60.07\n",
      "          4 |        116       19.97       80.03\n",
      "          5 |        116       19.97      100.00\n",
      "------------+-----------------------------------\n",
      "      Total |        581      100.00\n"
     ]
    }
   ],
   "source": [
    "sum sgrnt_low, detail\n",
    "tab squant"
   ]
  },
  {
   "cell_type": "code",
   "execution_count": 11,
   "metadata": {
    "tags": []
   },
   "outputs": [
    {
     "data": {
      "text/html": [
       "<div>\n",
       "<style scoped>\n",
       "    .dataframe tbody tr th:only-of-type {\n",
       "        vertical-align: middle;\n",
       "    }\n",
       "\n",
       "    .dataframe tbody tr th {\n",
       "        vertical-align: top;\n",
       "    }\n",
       "\n",
       "    .dataframe thead th {\n",
       "        text-align: right;\n",
       "    }\n",
       "</style>\n",
       "<table border=\"1\" class=\"dataframe\">\n",
       "  <thead>\n",
       "    <tr style=\"text-align: right;\">\n",
       "      <th></th>\n",
       "      <th>hgroup</th>\n",
       "      <th>sgrnt_low_inc</th>\n",
       "      <th>squant</th>\n",
       "    </tr>\n",
       "  </thead>\n",
       "  <tbody>\n",
       "    <tr>\n",
       "      <th>1</th>\n",
       "      <td>Some/None</td>\n",
       "      <td>5126.689</td>\n",
       "      <td>4</td>\n",
       "    </tr>\n",
       "    <tr>\n",
       "      <th>2</th>\n",
       "      <td>Some/None</td>\n",
       "      <td>3182.448</td>\n",
       "      <td>3</td>\n",
       "    </tr>\n",
       "    <tr>\n",
       "      <th>3</th>\n",
       "      <td>High</td>\n",
       "      <td>9233.675</td>\n",
       "      <td>5</td>\n",
       "    </tr>\n",
       "    <tr>\n",
       "      <th>4</th>\n",
       "      <td>High</td>\n",
       "      <td>129.9652</td>\n",
       "      <td>1</td>\n",
       "    </tr>\n",
       "    <tr>\n",
       "      <th>5</th>\n",
       "      <td>Some/None</td>\n",
       "      <td>39.06705</td>\n",
       "      <td>1</td>\n",
       "    </tr>\n",
       "  </tbody>\n",
       "</table>\n",
       "</div>"
      ]
     },
     "metadata": {},
     "output_type": "display_data"
    }
   ],
   "source": [
    "%head hgroup sgrnt_low squant"
   ]
  },
  {
   "cell_type": "code",
   "execution_count": 12,
   "metadata": {
    "tags": []
   },
   "outputs": [
    {
     "name": "stdout",
     "output_type": "stream",
     "text": [
      "\n",
      "    Variable |        Obs        Mean    Std. dev.       Min        Max\n",
      "-------------+---------------------------------------------------------\n",
      "sgrnt_low_~c |        116    2937.071    303.7679   2434.128   3452.216\n"
     ]
    }
   ],
   "source": [
    "sum sgrnt_low if squant==3"
   ]
  },
  {
   "cell_type": "code",
   "execution_count": 13,
   "metadata": {
    "tags": []
   },
   "outputs": [
    {
     "name": "stdout",
     "output_type": "stream",
     "text": [
      "(bin=24, start=0, width=122.37796)\n",
      "(bin=24, start=0, width=1548.9591)\n"
     ]
    },
    {
     "data": {
      "image/png": "[encoded data removed]",
      "text/plain": [
       "<IPython.core.display.Image object>"
      ]
     },
     "metadata": {},
     "output_type": "display_data"
    },
    {
     "data": {
      "image/png": "[encoded data removed]",
      "text/plain": [
       "<IPython.core.display.Image object>"
      ]
     },
     "metadata": {},
     "output_type": "display_data"
    }
   ],
   "source": [
    "mkspline sgrnt1 2937.071 sgrnt2 = sgrnt_low\n",
    "\n",
    "histogram sgrnt1, name(hist1)\n",
    "histogram sgrnt2, name(hist2)"
   ]
  },
  {
   "cell_type": "code",
   "execution_count": 14,
   "metadata": {
    "tags": []
   },
   "outputs": [
    {
     "name": "stdout",
     "output_type": "stream",
     "text": [
      "\n",
      "      Source |       SS           df       MS      Number of obs   =       581\n",
      "-------------+----------------------------------   F(2, 578)       =     27.06\n",
      "       Model |  35.9713938         2  17.9856969   Prob > F        =    0.0000\n",
      "    Residual |  384.169742       578  .664653533   R-squared       =    0.0856\n",
      "-------------+----------------------------------   Adj R-squared   =    0.0825\n",
      "       Total |  420.141136       580  .724381269   Root MSE        =    .81526\n",
      "\n",
      "------------------------------------------------------------------------------\n",
      "      hgroup | Coefficient  Std. err.      t    P>|t|     [95% conf. interval]\n",
      "-------------+----------------------------------------------------------------\n",
      "      sgrnt1 |   .0000472   .0000348     1.36   0.176    -.0000212    .0001156\n",
      "      sgrnt2 |  -.0000787   .0000108    -7.27   0.000    -.0000999   -.0000574\n",
      "       _cons |   3.585221   .0787374    45.53   0.000     3.430575    3.739867\n",
      "------------------------------------------------------------------------------\n",
      "(option xb assumed; fitted values)\n"
     ]
    },
    {
     "data": {
      "image/png": "[encoded data removed]",
      "text/plain": [
       "<IPython.core.display.Image object>"
      ]
     },
     "metadata": {},
     "output_type": "display_data"
    }
   ],
   "source": [
    "*Run the regression output for this spline model and examine the graph for it\n",
    "\n",
    "reg hgroup sgrnt1 sgrnt2\n",
    "predict yhat\n",
    "\n",
    "*Graph the fited spline lines for college net price\n",
    "tw (scatter hgroup sgrnt_low) (line yhat sgrnt_low, sort color(red) lwidth(thick))"
   ]
  },
  {
   "cell_type": "markdown",
   "metadata": {},
   "source": [
    "Concluding interpretation:\n",
    "This result looks like something out of lovecraftian mathematical horror. It is uninterpretable (which is to be expected as the dependent variable I am using is not a continuous variable). But if we really have to dissect this graph, I would argue that there definitly is a knot near the begining of the graph, where the fitted values took a sharp turn down. If the variables I have choosen are all continuous, the graph may be a lot better and more legible. "
   ]
  },
  {
   "cell_type": "markdown",
   "metadata": {},
   "source": [
    "Creating spline (2):"
   ]
  },
  {
   "cell_type": "code",
   "execution_count": 15,
   "metadata": {
    "tags": []
   },
   "outputs": [
    {
     "name": "stdout",
     "output_type": "stream",
     "text": [
      "\n",
      "             |     knot1      knot2      knot3      knot4      knot5 \n",
      "-------------+-------------------------------------------------------\n",
      "sgrnt_low_~c |  84.61274   1416.656   2955.348   4372.813   9209.409 \n"
     ]
    }
   ],
   "source": [
    "mkspline sgrnt3 = sgrnt_low, cubic displayknots\n",
    "\n",
    "*Stata calculates the potential knots for us (5 knots are created as default for cubic spline functions)."
   ]
  },
  {
   "cell_type": "code",
   "execution_count": 16,
   "metadata": {
    "tags": []
   },
   "outputs": [
    {
     "name": "stdout",
     "output_type": "stream",
     "text": [
      "\n",
      "      Source |       SS           df       MS      Number of obs   =       581\n",
      "-------------+----------------------------------   F(4, 576)       =     15.18\n",
      "       Model |  40.0570114         4  10.0142528   Prob > F        =    0.0000\n",
      "    Residual |  380.084125       576  .659868272   R-squared       =    0.0953\n",
      "-------------+----------------------------------   Adj R-squared   =    0.0891\n",
      "       Total |  420.141136       580  .724381269   Root MSE        =    .81232\n",
      "\n",
      "------------------------------------------------------------------------------\n",
      "      hgroup | Coefficient  Std. err.      t    P>|t|     [95% conf. interval]\n",
      "-------------+----------------------------------------------------------------\n",
      "     sgrnt31 |   1.58e-07   .0001404     0.00   0.999    -.0002757     .000276\n",
      "     sgrnt32 |   .0016571   .0019317     0.86   0.391    -.0021369    .0054511\n",
      "     sgrnt33 |  -.0059277   .0046552    -1.27   0.203    -.0150709    .0032156\n",
      "     sgrnt34 |   .0079168    .004125     1.92   0.055    -.0001851    .0160186\n",
      "       _cons |   3.593321    .107889    33.31   0.000     3.381417    3.805225\n",
      "------------------------------------------------------------------------------\n"
     ]
    }
   ],
   "source": [
    "regress hgroup sgrnt3*"
   ]
  },
  {
   "cell_type": "code",
   "execution_count": 17,
   "metadata": {
    "tags": []
   },
   "outputs": [
    {
     "name": "stdout",
     "output_type": "stream",
     "text": [
      "(option xb assumed; fitted values)\n"
     ]
    }
   ],
   "source": [
    "predict yhat2"
   ]
  },
  {
   "cell_type": "code",
   "execution_count": 18,
   "metadata": {
    "tags": []
   },
   "outputs": [
    {
     "data": {
      "image/png": "[encoded data removed]",
      "text/plain": [
       "<IPython.core.display.Image object>"
      ]
     },
     "metadata": {},
     "output_type": "display_data"
    }
   ],
   "source": [
    "tw (scatter hgroup sgrnt_low) (line yhat2 sgrnt_low, sort color(red) lwidth(thick))"
   ]
  },
  {
   "cell_type": "markdown",
   "metadata": {},
   "source": [
    "Concluding interpretation:\n",
    "A spline, both linear and cubic, is inappropriate for modeling the relationship between reserach level of schools and the state grant aid per student. In addition, we also have a low R-squared for the cubic spline model. I presume part of the reason for this scenario can be attributed to the fact that my independent variable, the reserach level of schools, is not a continuous variable and thus can not be approperiatly be applied into the spline model."
   ]
  },
  {
   "cell_type": "markdown",
   "metadata": {},
   "source": [
    "Turning continuous independent variable into sequential dummies:"
   ]
  },
  {
   "cell_type": "code",
   "execution_count": 19,
   "metadata": {
    "tags": []
   },
   "outputs": [
    {
     "name": "stdout",
     "output_type": "stream",
     "text": [
      "\n",
      "Variable      Storage   Display    Value\n",
      "    name         type    format    label      Variable label\n",
      "-------------------------------------------------------------------------------\n",
      "sgrnt_low_inc   float   %9.0g                 state grant $ per fte\n"
     ]
    }
   ],
   "source": [
    "describe sgrnt_low"
   ]
  },
  {
   "cell_type": "code",
   "execution_count": 20,
   "metadata": {
    "tags": []
   },
   "outputs": [
    {
     "name": "stdout",
     "output_type": "stream",
     "text": [
      "\n",
      "-------------------------------------------------------------------------------\n",
      "sgrnt_low_inc                                             state grant $ per fte\n",
      "-------------------------------------------------------------------------------\n",
      "\n",
      "                  Type: Numeric (float)\n",
      "\n",
      "                 Range: [0,40112.09]                  Units: 1.000e-06\n",
      "         Unique values: 578                       Missing .: 0/581\n",
      "\n",
      "                  Mean: 3590.03\n",
      "             Std. dev.: 3788.36\n",
      "\n",
      "           Percentiles:     10%       25%       50%       75%       90%\n",
      "                        374.798   1255.38   2955.35   4690.81   6946.94\n"
     ]
    }
   ],
   "source": [
    "codebook sgrnt_low"
   ]
  },
  {
   "cell_type": "code",
   "execution_count": 21,
   "metadata": {
    "tags": []
   },
   "outputs": [
    {
     "name": "stdout",
     "output_type": "stream",
     "text": [
      "\n",
      "                    state grant $ per fte\n",
      "-------------------------------------------------------------\n",
      "      Percentiles      Smallest\n",
      " 1%     3.427762              0\n",
      " 5%      90.0805              0\n",
      "10%     374.7984              0       Obs                 581\n",
      "25%     1255.379              0       Sum of wgt.         581\n",
      "\n",
      "50%     2955.348                      Mean           3590.033\n",
      "                        Largest       Std. dev.      3788.357\n",
      "75%     4690.805       22854.09\n",
      "90%     6946.937       32254.32       Variance       1.44e+07\n",
      "95%     8991.016       33224.98       Skewness       4.088276\n",
      "99%     16660.79       40112.09       Kurtosis       31.03328\n"
     ]
    }
   ],
   "source": [
    "sum sgrnt_low, detail"
   ]
  },
  {
   "cell_type": "code",
   "execution_count": 22,
   "metadata": {
    "tags": []
   },
   "outputs": [
    {
     "name": "stdout",
     "output_type": "stream",
     "text": [
      "(104 missing values generated)\n"
     ]
    }
   ],
   "source": [
    "egen netaid_vibes = cut(sgrnt_low), at(300,1000,1700,2400,3100,3800,4500,5200,5900,6600,7300)"
   ]
  },
  {
   "cell_type": "code",
   "execution_count": 23,
   "metadata": {
    "tags": []
   },
   "outputs": [
    {
     "name": "stdout",
     "output_type": "stream",
     "text": [
      "\n",
      "netaid_vibe |\n",
      "          s |      Freq.     Percent        Cum.\n",
      "------------+-----------------------------------\n",
      "        300 |         69       14.47       14.47\n",
      "       1000 |         57       11.95       26.42\n",
      "       1700 |         51       10.69       37.11\n",
      "       2400 |         79       16.56       53.67\n",
      "       3100 |         77       16.14       69.81\n",
      "       3800 |         43        9.01       78.83\n",
      "       4500 |         37        7.76       86.58\n",
      "       5200 |         31        6.50       93.08\n",
      "       5900 |         20        4.19       97.27\n",
      "       6600 |         13        2.73      100.00\n",
      "------------+-----------------------------------\n",
      "      Total |        477      100.00\n"
     ]
    }
   ],
   "source": [
    "tab netaid_vibes"
   ]
  },
  {
   "cell_type": "code",
   "execution_count": 24,
   "metadata": {
    "tags": []
   },
   "outputs": [
    {
     "name": "stdout",
     "output_type": "stream",
     "text": [
      "\n",
      "      Source |       SS           df       MS      Number of obs   =       477\n",
      "-------------+----------------------------------   F(9, 467)       =      2.51\n",
      "       Model |  14.2846067         9  1.58717852   Prob > F        =    0.0081\n",
      "    Residual |  295.036148       467  .631769054   R-squared       =    0.0462\n",
      "-------------+----------------------------------   Adj R-squared   =    0.0278\n",
      "       Total |  309.320755       476  .649833518   Root MSE        =    .79484\n",
      "\n",
      "------------------------------------------------------------------------------\n",
      "      hgroup | Coefficient  Std. err.      t    P>|t|     [95% conf. interval]\n",
      "-------------+----------------------------------------------------------------\n",
      "netaid_vibes |\n",
      "       1000  |   .2090008   .1422664     1.47   0.142    -.0705609    .4885624\n",
      "       1700  |   .2131287   .1467777     1.45   0.147    -.0752978    .5015553\n",
      "       2400  |   .2793983     .13097     2.13   0.033     .0220347    .5367618\n",
      "       3100  |   .2864672   .1317606     2.17   0.030       .02755    .5453843\n",
      "       3800  |   .1584092   .1544292     1.03   0.306     -.145053    .4618713\n",
      "       4500  |    .128868   .1619596     0.80   0.427    -.1893918    .4471278\n",
      "       5200  |  -.0733988   .1718596    -0.43   0.670    -.4111126    .2643151\n",
      "       5900  |  -.3927536   .2018527    -1.95   0.052    -.7894057    .0038985\n",
      "       6600  |  -.2619844     .24032    -1.09   0.276    -.7342268     .210258\n",
      "             |\n",
      "       _cons |   3.492754   .0956874    36.50   0.000     3.304723    3.680785\n",
      "------------------------------------------------------------------------------\n"
     ]
    }
   ],
   "source": [
    "reg hgroup i.netaid_vibes"
   ]
  },
  {
   "cell_type": "code",
   "execution_count": 25,
   "metadata": {
    "tags": []
   },
   "outputs": [
    {
     "name": "stdout",
     "output_type": "stream",
     "text": [
      "\n",
      "Variables that uniquely identify margins: netaid_vibes\n"
     ]
    },
    {
     "data": {
      "image/png": "[encoded data removed]",
      "text/plain": [
       "<IPython.core.display.Image object>"
      ]
     },
     "metadata": {},
     "output_type": "display_data"
    }
   ],
   "source": [
    "qui margins i.netaid_vibes, atmeans\n",
    "marginsplot, ytitle(reserach level)"
   ]
  },
  {
   "cell_type": "code",
   "execution_count": 26,
   "metadata": {
    "tags": []
   },
   "outputs": [
    {
     "name": "stdout",
     "output_type": "stream",
     "text": [
      "\n",
      "-------------------------------------------------------------------------------\n",
      "hgroup                                                           research level\n",
      "-------------------------------------------------------------------------------\n",
      "\n",
      "                  Type: Numeric (long)\n",
      "                 Label: hgroup\n",
      "\n",
      "                 Range: [1,4]                         Units: 1\n",
      "         Unique values: 4                         Missing .: 0/581\n",
      "\n",
      "            Tabulation: Freq.   Numeric  Label\n",
      "                           34         1  Highest\n",
      "                           37         2  Very high\n",
      "                           72         3  High\n",
      "                          438         4  Some/None\n"
     ]
    }
   ],
   "source": [
    "codebook hgroup"
   ]
  },
  {
   "cell_type": "markdown",
   "metadata": {},
   "source": [
    "Concluding interpretation:\n",
    "I would interpret this by focusing on the means of each bracket. At the 0-300 bracket for state grant aid per student, the average reserach level of schools are about 3.5, which is below \"High\". Moving from this to the 300-1000 bracket, we see a decrease in research level of schools to about 3.7, which is still below \"High\" but not to the point of reaching 4, or \"some/None\". Moving to 1-1700 there is no change, but moving from 1700-2400 we see a further decrease in reserach level to about 3.8. Moving to 24-3100, there is no visiable change, but from 31-3800 there is an increase in reserach level of schools back to around 3.7. Moving to 38-4500 we see a further increase in reserach level of schools from 3.7 to around 3.6. Moving from 45-5200 we see a further increase in research level of schools where it changed from 3.6 to around 3.4. Moving from 52-5900, there is a further increase in reserach level where it changed from 3.4 to about 3.2. Lastly, from 59-6600, there is actually a decrease in reserach level from 3.2 to around 3.3.\n"
   ]
  },
  {
   "cell_type": "code",
   "execution_count": 27,
   "metadata": {
    "tags": []
   },
   "outputs": [
    {
     "name": "stdout",
     "output_type": "stream",
     "text": [
      "\n",
      "      Source |       SS           df       MS      Number of obs   =       581\n",
      "-------------+----------------------------------   F(1, 579)       =     43.42\n",
      "       Model |  29.3060444         1  29.3060444   Prob > F        =    0.0000\n",
      "    Residual |  390.835092       579  .675017429   R-squared       =    0.0698\n",
      "-------------+----------------------------------   Adj R-squared   =    0.0681\n",
      "       Total |  420.141136       580  .724381269   Root MSE        =    .82159\n",
      "\n",
      "------------------------------------------------------------------------------\n",
      "      hgroup | Coefficient  Std. err.      t    P>|t|     [95% conf. interval]\n",
      "-------------+----------------------------------------------------------------\n",
      "sgrnt_low_~c |  -.0000593   9.01e-06    -6.59   0.000     -.000077   -.0000416\n",
      "       _cons |   3.786166   .0469785    80.59   0.000     3.693897    3.878435\n",
      "------------------------------------------------------------------------------\n",
      "(est1 stored)\n",
      "\n",
      "      Source |       SS           df       MS      Number of obs   =       581\n",
      "-------------+----------------------------------   F(2, 578)       =     27.06\n",
      "       Model |  35.9713932         2  17.9856966   Prob > F        =    0.0000\n",
      "    Residual |  384.169743       578  .664653534   R-squared       =    0.0856\n",
      "-------------+----------------------------------   Adj R-squared   =    0.0825\n",
      "       Total |  420.141136       580  .724381269   Root MSE        =    .81526\n",
      "\n",
      "------------------------------------------------------------------------------\n",
      "      hgroup | Coefficient  Std. err.      t    P>|t|     [95% conf. interval]\n",
      "-------------+----------------------------------------------------------------\n",
      "sgrnt_low_~c |   .0000472   .0000348     1.36   0.176    -.0000212    .0001156\n",
      "      sgrnt2 |  -.0001259   .0000398    -3.17   0.002     -.000204   -.0000478\n",
      "       _cons |   3.585221   .0787374    45.53   0.000     3.430575    3.739867\n",
      "------------------------------------------------------------------------------\n",
      "(est2 stored)\n",
      "(option xb assumed; fitted values)\n"
     ]
    }
   ],
   "source": [
    "eststo clear\n",
    "eststo: reg hgroup sgrnt_low\n",
    "eststo: reg hgroup sgrnt_low sgrnt2\n",
    "predict yhatquad"
   ]
  },
  {
   "cell_type": "code",
   "execution_count": 28,
   "metadata": {
    "tags": []
   },
   "outputs": [
    {
     "name": "stdout",
     "output_type": "stream",
     "text": [
      "\n",
      "--------------------------------------------\n",
      "                      (1)             (2)   \n",
      "                   hgroup          hgroup   \n",
      "                     b/se            b/se   \n",
      "--------------------------------------------\n",
      "sgrnt_low_~c       -0.000***        0.000   \n",
      "                  (0.000)         (0.000)   \n",
      "sgrnt2                             -0.000** \n",
      "                                  (0.000)   \n",
      "_cons               3.786***        3.585***\n",
      "                  (0.047)         (0.079)   \n",
      "--------------------------------------------\n",
      "R-Sqaured           0.070           0.086   \n",
      "N                 581.000         581.000   \n",
      "--------------------------------------------\n"
     ]
    }
   ],
   "source": [
    "esttab, stats(r2 N, labels(\"R-Sqaured\" \"N\")) cells(b(star fmt(3)) ///\n",
    "se(fmt(3) par)) nobase"
   ]
  },
  {
   "cell_type": "markdown",
   "metadata": {},
   "source": [
    "## 3. Interpret the results [1 pt]\n",
    "\n",
    "    A. Say whether the results support or contradict your hypothesis and why\n",
    "    \n",
    "    B. Say whether a linear or particular non-linear model best describes your data and why"
   ]
  },
  {
   "cell_type": "markdown",
   "metadata": {},
   "source": [
    "A. The results does appear to support my hypothesis. Based on the two statistical tests I have conducted (however flawed with one variable being not continuous) it is apparent that in general as the reserach level of a school increases from 4 to 1, so too does the state grant aid per student. Both tests produced graphs that shows a noticiable trend where as the level of reserach of a school increases, so too does the state grant aid per student increases.\n",
    "\n",
    "B. A linear model will probably best describes my data. As the trend is, in general, pretty linear with no real reason to suspect nor in need of a non-linear model to accommodate. There are also no theoretical reasoning behind why one would expect a non-linear model will be appropriate for this relationship between reserach level of schools and the state grant aid per student. "
   ]
  }
 ],
 "metadata": {
  "kernelspec": {
   "display_name": "Stata (nbstata)",
   "language": "stata",
   "name": "nbstata"
  },
  "language_info": {
   "file_extension": ".do",
   "mimetype": "text/x-stata",
   "name": "stata",
   "version": "17"
  }
 },
 "nbformat": 4,
 "nbformat_minor": 4
}
